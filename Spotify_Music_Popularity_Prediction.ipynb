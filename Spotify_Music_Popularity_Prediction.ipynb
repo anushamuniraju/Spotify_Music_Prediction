{
 "cells": [
  {
   "cell_type": "raw",
   "id": "3fffd6fe",
   "metadata": {},
   "source": [
    "artist_name (object): Name of the artist.\n",
    "track_id (object): Spotify unique track id.\n",
    "track_name (object): Name of the track/song.\n",
    "    1 - acousticness (float): A confidence measure from 0.0 to 1.0 of whether the \n",
    "                          track is acoustic. 1.0 represents high confidence \n",
    "                          the track is acoustic.\n",
    "    2 - danceability (float): Danceability describes how suitable a track is for \n",
    "                          dancing based on a combination of musical elements \n",
    "                          including tempo, rhythm stability, beat strength, \n",
    "                          and overall regularity. A value of 0.0 is least \n",
    "                          danceable and 1.0 is most danceable.\n",
    "    3 - duration_ms (int): The duration of the track in milliseconds.\n",
    "    4 - energy (float): Energy is a measure from 0.0 to 1.0 and represents a \n",
    "                    perceptual measure of intensity and activity. Typically, \n",
    "                    energetic tracks feel fast, loud, and noisy. For example, \n",
    "                    death metal has high energy, while a Bach prelude scores low \n",
    "                    on the scale. Perceptual features contributing to this \n",
    "                    attribute include dynamic range, perceived loudness, timbre, \n",
    "                    onset rate, and general entropy.\n",
    "    5 - instrumentalness (float): Predicts whether a track contains no vocals. “Ooh” \n",
    "                              and “aah” sounds are treated as instrumental in this \n",
    "                              context. Rap or spoken word tracks are clearly “vocal”. \n",
    "                              The closer the instrumentalness value is to 1.0, the \n",
    "                              greater likelihood the track contains no vocal content. \n",
    "                              Values above 0.5 are intended to represent instrumental \n",
    "                              tracks, but confidence is higher as the value approaches \n",
    "                              1.0.\n",
    "    6 - key (int): The estimated overall key of the track. Integers map to pitches using \n",
    "               standard Pitch Class notation. E.g. 0 = C, 1 = C♯/D♭, 2 = D, and so on. \n",
    "               If no key was detected, the value is -1.\n",
    "    7 - liveness (float): Detects the presence of an audience in the recording. \n",
    "                        Higher liveness values represent an increased probability that the \n",
    "                        track was performed live. A value above 0.8 provides strong likelihood \n",
    "                        that the track is live.\n",
    "    8 - loudness: (float): The overall loudness of a track in decibels (dB). \n",
    "        Loudness values are averaged across the entire track and are useful for comparing \n",
    "        relative loudness of tracks. Loudness is the quality of a sound that is the primary \n",
    "        psychological correlate of physical strength (amplitude). Values typical range between \n",
    "        -60 and 0 db.\n",
    "    9 - mode( int): Mode indicates the modality (major or minor) of a track, the type of scale \n",
    "        from which its melodic content is derived. Major is represented by 1 and minor is 0.\n",
    "    10 - speechiness (float): Speechiness detects the presence of spoken words in a track. \n",
    "        The more exclusively speech-like the recording (e.g. talk show, audio book, poetry), \n",
    "        the closer to 1.0 the attribute value. Values above 0.66 describe tracks that are probably \n",
    "        made entirely of spoken words. Values between 0.33 and 0.66 describe tracks that may contain \n",
    "        both music and speech, either in sections or layered, including such cases as rap music. \n",
    "        Values below 0.33 most likely represent music and other non-speech-like tracks. \n",
    "    11 - tempo - beats per minute\n",
    "    12 - time_signature (int): An estimated overall time signature of a track. The time signature \n",
    "    (meter) is a notational convention to specify how many beats are in each bar (or measure).\n",
    "    13 - valence - (float): A measure from 0.0 to 1.0 describing the musical positiveness conveyed by \n",
    "    a track. Tracks with high valence sound more positive (e.g. happy, cheerful, euphoric), while tracks \n",
    "    with low valence sound more negative (e.g. sad, depressed, angry).\n",
    "    14- popularity - overall popularity score (based on # of clicks) The popularity of the track. The value \n",
    "    will be between 0 and 100, with 100 being the most popular.\n",
    "The popularity of a track is a value between 0 and 100, with 100 being the most popular. \n",
    "The popularity is calculated by algorithm and is based, in the most part, on the total number of plays \n",
    "the track has had and how recent those plays are.\n",
    "Generally speaking, songs that are being played a lot now will have a higher popularity than songs that \n",
    "were played a lot in the past."
   ]
  },
  {
   "cell_type": "code",
   "execution_count": 1,
   "id": "ddb3b1f1",
   "metadata": {},
   "outputs": [],
   "source": [
    "import pandas as pd\n",
    "import numpy as np \n",
    "import matplotlib.pyplot as plt\n",
    "import statsmodels.api as sm\n",
    "import seaborn as sns\n",
    "import random\n",
    "\n",
    "from pandas.plotting import scatter_matrix\n",
    "from sklearn.linear_model import LinearRegression\n",
    "from sklearn.model_selection import train_test_split\n",
    "from scipy import stats  \n",
    "from statsmodels.discrete.discrete_model import Logit\n",
    "from statsmodels.tools import add_constant\n",
    "from sklearn.linear_model import LogisticRegression\n",
    "from sklearn.metrics import accuracy_score, precision_score, recall_score\n",
    "from sklearn.metrics import confusion_matrix\n",
    "from sklearn import metrics\n",
    "import itertools\n",
    "\n",
    "from sklearn.model_selection import KFold, StratifiedKFold\n",
    "from sklearn.preprocessing import LabelEncoder, StandardScaler,OrdinalEncoder\n",
    "from sklearn.metrics import mean_absolute_error, mean_squared_error\n",
    "from sklearn.impute import SimpleImputer\n",
    "\n",
    "# warnings reported for function updates, ignore them\n",
    "import warnings\n",
    "warnings.filterwarnings('ignore')"
   ]
  },
  {
   "cell_type": "code",
   "execution_count": 2,
   "id": "191e2bc0",
   "metadata": {},
   "outputs": [],
   "source": [
    "df = pd.read_csv('genre_data.csv', encoding = 'latin-1')"
   ]
  },
  {
   "cell_type": "code",
   "execution_count": 3,
   "id": "d39289ff",
   "metadata": {},
   "outputs": [
    {
     "data": {
      "text/html": [
       "<div>\n",
       "<style scoped>\n",
       "    .dataframe tbody tr th:only-of-type {\n",
       "        vertical-align: middle;\n",
       "    }\n",
       "\n",
       "    .dataframe tbody tr th {\n",
       "        vertical-align: top;\n",
       "    }\n",
       "\n",
       "    .dataframe thead th {\n",
       "        text-align: right;\n",
       "    }\n",
       "</style>\n",
       "<table border=\"1\" class=\"dataframe\">\n",
       "  <thead>\n",
       "    <tr style=\"text-align: right;\">\n",
       "      <th></th>\n",
       "      <th>track.id</th>\n",
       "      <th>track.name</th>\n",
       "      <th>track.artist</th>\n",
       "      <th>track.popularity</th>\n",
       "      <th>track.album.id</th>\n",
       "      <th>track.album.name</th>\n",
       "      <th>track.album.release_date</th>\n",
       "      <th>playlist_name</th>\n",
       "      <th>playlist_id</th>\n",
       "      <th>playlist_genre</th>\n",
       "      <th>...</th>\n",
       "      <th>key</th>\n",
       "      <th>loudness</th>\n",
       "      <th>mode</th>\n",
       "      <th>speechiness</th>\n",
       "      <th>acousticness</th>\n",
       "      <th>instrumentalness</th>\n",
       "      <th>liveness</th>\n",
       "      <th>valence</th>\n",
       "      <th>tempo</th>\n",
       "      <th>duration_ms</th>\n",
       "    </tr>\n",
       "  </thead>\n",
       "  <tbody>\n",
       "    <tr>\n",
       "      <th>0</th>\n",
       "      <td>18asYwWugKjjsihZ0YvRxO</td>\n",
       "      <td>The Motto</td>\n",
       "      <td>Tiësto</td>\n",
       "      <td>95</td>\n",
       "      <td>278z9UXJaMNDH9Bel9uAxV</td>\n",
       "      <td>The Motto</td>\n",
       "      <td>2021</td>\n",
       "      <td>Dance Pop Hits</td>\n",
       "      <td>37i9dQZF1DWZQaaqNMbbXa</td>\n",
       "      <td>pop</td>\n",
       "      <td>...</td>\n",
       "      <td>7</td>\n",
       "      <td>-4.627</td>\n",
       "      <td>0</td>\n",
       "      <td>0.0435</td>\n",
       "      <td>0.03010</td>\n",
       "      <td>0.000022</td>\n",
       "      <td>0.0901</td>\n",
       "      <td>0.464</td>\n",
       "      <td>117.953</td>\n",
       "      <td>164819</td>\n",
       "    </tr>\n",
       "    <tr>\n",
       "      <th>1</th>\n",
       "      <td>5K6Ssv4Z3zRvxt0P6EKUAP</td>\n",
       "      <td>Heartbreak Anthem (with David Guetta &amp; Little ...</td>\n",
       "      <td>Galantis</td>\n",
       "      <td>86</td>\n",
       "      <td>6kBuGNoOGE7uiPhN82dcJ1</td>\n",
       "      <td>Heartbreak Anthem (with David Guetta &amp; Little ...</td>\n",
       "      <td>2021</td>\n",
       "      <td>Dance Pop Hits</td>\n",
       "      <td>37i9dQZF1DWZQaaqNMbbXa</td>\n",
       "      <td>pop</td>\n",
       "      <td>...</td>\n",
       "      <td>1</td>\n",
       "      <td>-4.878</td>\n",
       "      <td>1</td>\n",
       "      <td>0.1020</td>\n",
       "      <td>0.21600</td>\n",
       "      <td>0.000000</td>\n",
       "      <td>0.0608</td>\n",
       "      <td>0.479</td>\n",
       "      <td>124.111</td>\n",
       "      <td>183726</td>\n",
       "    </tr>\n",
       "    <tr>\n",
       "      <th>2</th>\n",
       "      <td>73QyyUMMvtNELmULI4FOsp</td>\n",
       "      <td>You for Me</td>\n",
       "      <td>Sigala</td>\n",
       "      <td>79</td>\n",
       "      <td>2iylTVQEMYGQ9CUgn9MAAT</td>\n",
       "      <td>You for Me</td>\n",
       "      <td>2021</td>\n",
       "      <td>Dance Pop Hits</td>\n",
       "      <td>37i9dQZF1DWZQaaqNMbbXa</td>\n",
       "      <td>pop</td>\n",
       "      <td>...</td>\n",
       "      <td>2</td>\n",
       "      <td>-1.856</td>\n",
       "      <td>0</td>\n",
       "      <td>0.0426</td>\n",
       "      <td>0.04810</td>\n",
       "      <td>0.000002</td>\n",
       "      <td>0.1910</td>\n",
       "      <td>0.696</td>\n",
       "      <td>126.031</td>\n",
       "      <td>175435</td>\n",
       "    </tr>\n",
       "    <tr>\n",
       "      <th>3</th>\n",
       "      <td>463CkQjx2Zk1yXoBuierM9</td>\n",
       "      <td>Levitating (feat. DaBaby)</td>\n",
       "      <td>Dua Lipa</td>\n",
       "      <td>85</td>\n",
       "      <td>04m06KhJUuwe1Q487puIud</td>\n",
       "      <td>Levitating (feat. DaBaby)</td>\n",
       "      <td>2020</td>\n",
       "      <td>Dance Pop Hits</td>\n",
       "      <td>37i9dQZF1DWZQaaqNMbbXa</td>\n",
       "      <td>pop</td>\n",
       "      <td>...</td>\n",
       "      <td>6</td>\n",
       "      <td>-3.787</td>\n",
       "      <td>0</td>\n",
       "      <td>0.0601</td>\n",
       "      <td>0.00883</td>\n",
       "      <td>0.000000</td>\n",
       "      <td>0.0674</td>\n",
       "      <td>0.915</td>\n",
       "      <td>102.977</td>\n",
       "      <td>203064</td>\n",
       "    </tr>\n",
       "    <tr>\n",
       "      <th>4</th>\n",
       "      <td>79wbJeLkXOlJh4AzaWCWfL</td>\n",
       "      <td>How Will I Know</td>\n",
       "      <td>Whitney Houston</td>\n",
       "      <td>78</td>\n",
       "      <td>0ieUgrqfmWB4Ywu2CLWNWQ</td>\n",
       "      <td>How Will I Know</td>\n",
       "      <td>2021</td>\n",
       "      <td>Dance Pop Hits</td>\n",
       "      <td>37i9dQZF1DWZQaaqNMbbXa</td>\n",
       "      <td>pop</td>\n",
       "      <td>...</td>\n",
       "      <td>6</td>\n",
       "      <td>-3.591</td>\n",
       "      <td>1</td>\n",
       "      <td>0.0369</td>\n",
       "      <td>0.17800</td>\n",
       "      <td>0.000003</td>\n",
       "      <td>0.2300</td>\n",
       "      <td>0.656</td>\n",
       "      <td>118.997</td>\n",
       "      <td>213436</td>\n",
       "    </tr>\n",
       "  </tbody>\n",
       "</table>\n",
       "<p>5 rows × 23 columns</p>\n",
       "</div>"
      ],
      "text/plain": [
       "                 track.id                                         track.name  \\\n",
       "0  18asYwWugKjjsihZ0YvRxO                                          The Motto   \n",
       "1  5K6Ssv4Z3zRvxt0P6EKUAP  Heartbreak Anthem (with David Guetta & Little ...   \n",
       "2  73QyyUMMvtNELmULI4FOsp                                         You for Me   \n",
       "3  463CkQjx2Zk1yXoBuierM9                          Levitating (feat. DaBaby)   \n",
       "4  79wbJeLkXOlJh4AzaWCWfL                                    How Will I Know   \n",
       "\n",
       "      track.artist  track.popularity          track.album.id  \\\n",
       "0           Tiësto                95  278z9UXJaMNDH9Bel9uAxV   \n",
       "1         Galantis                86  6kBuGNoOGE7uiPhN82dcJ1   \n",
       "2           Sigala                79  2iylTVQEMYGQ9CUgn9MAAT   \n",
       "3         Dua Lipa                85  04m06KhJUuwe1Q487puIud   \n",
       "4  Whitney Houston                78  0ieUgrqfmWB4Ywu2CLWNWQ   \n",
       "\n",
       "                                    track.album.name  \\\n",
       "0                                          The Motto   \n",
       "1  Heartbreak Anthem (with David Guetta & Little ...   \n",
       "2                                         You for Me   \n",
       "3                          Levitating (feat. DaBaby)   \n",
       "4                                    How Will I Know   \n",
       "\n",
       "   track.album.release_date   playlist_name             playlist_id  \\\n",
       "0                      2021  Dance Pop Hits  37i9dQZF1DWZQaaqNMbbXa   \n",
       "1                      2021  Dance Pop Hits  37i9dQZF1DWZQaaqNMbbXa   \n",
       "2                      2021  Dance Pop Hits  37i9dQZF1DWZQaaqNMbbXa   \n",
       "3                      2020  Dance Pop Hits  37i9dQZF1DWZQaaqNMbbXa   \n",
       "4                      2021  Dance Pop Hits  37i9dQZF1DWZQaaqNMbbXa   \n",
       "\n",
       "  playlist_genre  ... key  loudness  mode  speechiness  acousticness  \\\n",
       "0            pop  ...   7    -4.627     0       0.0435       0.03010   \n",
       "1            pop  ...   1    -4.878     1       0.1020       0.21600   \n",
       "2            pop  ...   2    -1.856     0       0.0426       0.04810   \n",
       "3            pop  ...   6    -3.787     0       0.0601       0.00883   \n",
       "4            pop  ...   6    -3.591     1       0.0369       0.17800   \n",
       "\n",
       "   instrumentalness  liveness  valence    tempo  duration_ms  \n",
       "0          0.000022    0.0901    0.464  117.953       164819  \n",
       "1          0.000000    0.0608    0.479  124.111       183726  \n",
       "2          0.000002    0.1910    0.696  126.031       175435  \n",
       "3          0.000000    0.0674    0.915  102.977       203064  \n",
       "4          0.000003    0.2300    0.656  118.997       213436  \n",
       "\n",
       "[5 rows x 23 columns]"
      ]
     },
     "execution_count": 3,
     "metadata": {},
     "output_type": "execute_result"
    }
   ],
   "source": [
    "df.head()"
   ]
  },
  {
   "cell_type": "code",
   "execution_count": 4,
   "id": "2284e65f",
   "metadata": {},
   "outputs": [
    {
     "data": {
      "text/plain": [
       "(34080, 23)"
      ]
     },
     "execution_count": 4,
     "metadata": {},
     "output_type": "execute_result"
    }
   ],
   "source": [
    "df.shape"
   ]
  },
  {
   "cell_type": "markdown",
   "id": "635dcbd1",
   "metadata": {},
   "source": [
    "## 1. Exploratory Data Analysis "
   ]
  },
  {
   "cell_type": "markdown",
   "id": "932fb70f",
   "metadata": {},
   "source": [
    "### 1.1 Numerical variables"
   ]
  },
  {
   "cell_type": "code",
   "execution_count": 4,
   "id": "f762d8f8",
   "metadata": {},
   "outputs": [
    {
     "name": "stdout",
     "output_type": "stream",
     "text": [
      "Number of numerical variables:  14\n"
     ]
    },
    {
     "data": {
      "text/html": [
       "<div>\n",
       "<style scoped>\n",
       "    .dataframe tbody tr th:only-of-type {\n",
       "        vertical-align: middle;\n",
       "    }\n",
       "\n",
       "    .dataframe tbody tr th {\n",
       "        vertical-align: top;\n",
       "    }\n",
       "\n",
       "    .dataframe thead th {\n",
       "        text-align: right;\n",
       "    }\n",
       "</style>\n",
       "<table border=\"1\" class=\"dataframe\">\n",
       "  <thead>\n",
       "    <tr style=\"text-align: right;\">\n",
       "      <th></th>\n",
       "      <th>track.popularity</th>\n",
       "      <th>track.album.release_date</th>\n",
       "      <th>danceability</th>\n",
       "      <th>energy</th>\n",
       "      <th>key</th>\n",
       "      <th>loudness</th>\n",
       "      <th>mode</th>\n",
       "      <th>speechiness</th>\n",
       "      <th>acousticness</th>\n",
       "      <th>instrumentalness</th>\n",
       "      <th>liveness</th>\n",
       "      <th>valence</th>\n",
       "      <th>tempo</th>\n",
       "      <th>duration_ms</th>\n",
       "    </tr>\n",
       "  </thead>\n",
       "  <tbody>\n",
       "    <tr>\n",
       "      <th>0</th>\n",
       "      <td>95</td>\n",
       "      <td>2021</td>\n",
       "      <td>0.754</td>\n",
       "      <td>0.763</td>\n",
       "      <td>7</td>\n",
       "      <td>-4.627</td>\n",
       "      <td>0</td>\n",
       "      <td>0.0435</td>\n",
       "      <td>0.03010</td>\n",
       "      <td>0.000022</td>\n",
       "      <td>0.0901</td>\n",
       "      <td>0.464</td>\n",
       "      <td>117.953</td>\n",
       "      <td>164819</td>\n",
       "    </tr>\n",
       "    <tr>\n",
       "      <th>1</th>\n",
       "      <td>86</td>\n",
       "      <td>2021</td>\n",
       "      <td>0.595</td>\n",
       "      <td>0.784</td>\n",
       "      <td>1</td>\n",
       "      <td>-4.878</td>\n",
       "      <td>1</td>\n",
       "      <td>0.1020</td>\n",
       "      <td>0.21600</td>\n",
       "      <td>0.000000</td>\n",
       "      <td>0.0608</td>\n",
       "      <td>0.479</td>\n",
       "      <td>124.111</td>\n",
       "      <td>183726</td>\n",
       "    </tr>\n",
       "    <tr>\n",
       "      <th>2</th>\n",
       "      <td>79</td>\n",
       "      <td>2021</td>\n",
       "      <td>0.733</td>\n",
       "      <td>0.886</td>\n",
       "      <td>2</td>\n",
       "      <td>-1.856</td>\n",
       "      <td>0</td>\n",
       "      <td>0.0426</td>\n",
       "      <td>0.04810</td>\n",
       "      <td>0.000002</td>\n",
       "      <td>0.1910</td>\n",
       "      <td>0.696</td>\n",
       "      <td>126.031</td>\n",
       "      <td>175435</td>\n",
       "    </tr>\n",
       "    <tr>\n",
       "      <th>3</th>\n",
       "      <td>85</td>\n",
       "      <td>2020</td>\n",
       "      <td>0.702</td>\n",
       "      <td>0.825</td>\n",
       "      <td>6</td>\n",
       "      <td>-3.787</td>\n",
       "      <td>0</td>\n",
       "      <td>0.0601</td>\n",
       "      <td>0.00883</td>\n",
       "      <td>0.000000</td>\n",
       "      <td>0.0674</td>\n",
       "      <td>0.915</td>\n",
       "      <td>102.977</td>\n",
       "      <td>203064</td>\n",
       "    </tr>\n",
       "    <tr>\n",
       "      <th>4</th>\n",
       "      <td>78</td>\n",
       "      <td>2021</td>\n",
       "      <td>0.761</td>\n",
       "      <td>0.739</td>\n",
       "      <td>6</td>\n",
       "      <td>-3.591</td>\n",
       "      <td>1</td>\n",
       "      <td>0.0369</td>\n",
       "      <td>0.17800</td>\n",
       "      <td>0.000003</td>\n",
       "      <td>0.2300</td>\n",
       "      <td>0.656</td>\n",
       "      <td>118.997</td>\n",
       "      <td>213436</td>\n",
       "    </tr>\n",
       "  </tbody>\n",
       "</table>\n",
       "</div>"
      ],
      "text/plain": [
       "   track.popularity  track.album.release_date  danceability  energy  key  \\\n",
       "0                95                      2021         0.754   0.763    7   \n",
       "1                86                      2021         0.595   0.784    1   \n",
       "2                79                      2021         0.733   0.886    2   \n",
       "3                85                      2020         0.702   0.825    6   \n",
       "4                78                      2021         0.761   0.739    6   \n",
       "\n",
       "   loudness  mode  speechiness  acousticness  instrumentalness  liveness  \\\n",
       "0    -4.627     0       0.0435       0.03010          0.000022    0.0901   \n",
       "1    -4.878     1       0.1020       0.21600          0.000000    0.0608   \n",
       "2    -1.856     0       0.0426       0.04810          0.000002    0.1910   \n",
       "3    -3.787     0       0.0601       0.00883          0.000000    0.0674   \n",
       "4    -3.591     1       0.0369       0.17800          0.000003    0.2300   \n",
       "\n",
       "   valence    tempo  duration_ms  \n",
       "0    0.464  117.953       164819  \n",
       "1    0.479  124.111       183726  \n",
       "2    0.696  126.031       175435  \n",
       "3    0.915  102.977       203064  \n",
       "4    0.656  118.997       213436  "
      ]
     },
     "execution_count": 4,
     "metadata": {},
     "output_type": "execute_result"
    }
   ],
   "source": [
    "# list of numerical variables\n",
    "numerical_features = [feature for feature in df.columns if df[feature].dtypes != 'O']\n",
    "\n",
    "print('Number of numerical variables: ', len(numerical_features))\n",
    "\n",
    "# visualise the numerical variables\n",
    "df[numerical_features].head()"
   ]
  },
  {
   "cell_type": "code",
   "execution_count": 5,
   "id": "d2c2f53a",
   "metadata": {},
   "outputs": [
    {
     "data": {
      "text/html": [
       "<div>\n",
       "<style scoped>\n",
       "    .dataframe tbody tr th:only-of-type {\n",
       "        vertical-align: middle;\n",
       "    }\n",
       "\n",
       "    .dataframe tbody tr th {\n",
       "        vertical-align: top;\n",
       "    }\n",
       "\n",
       "    .dataframe thead th {\n",
       "        text-align: right;\n",
       "    }\n",
       "</style>\n",
       "<table border=\"1\" class=\"dataframe\">\n",
       "  <thead>\n",
       "    <tr style=\"text-align: right;\">\n",
       "      <th></th>\n",
       "      <th>track.popularity</th>\n",
       "      <th>track.album.release_date</th>\n",
       "      <th>danceability</th>\n",
       "      <th>energy</th>\n",
       "      <th>key</th>\n",
       "      <th>loudness</th>\n",
       "      <th>mode</th>\n",
       "      <th>speechiness</th>\n",
       "      <th>acousticness</th>\n",
       "      <th>instrumentalness</th>\n",
       "      <th>liveness</th>\n",
       "      <th>valence</th>\n",
       "      <th>tempo</th>\n",
       "      <th>duration_ms</th>\n",
       "    </tr>\n",
       "  </thead>\n",
       "  <tbody>\n",
       "    <tr>\n",
       "      <th>track.popularity</th>\n",
       "      <td>1.000000</td>\n",
       "      <td>0.004374</td>\n",
       "      <td>0.062639</td>\n",
       "      <td>-0.041678</td>\n",
       "      <td>0.001030</td>\n",
       "      <td>0.097556</td>\n",
       "      <td>-0.012660</td>\n",
       "      <td>-0.019513</td>\n",
       "      <td>0.017134</td>\n",
       "      <td>-0.171578</td>\n",
       "      <td>-0.043567</td>\n",
       "      <td>0.067637</td>\n",
       "      <td>0.001455</td>\n",
       "      <td>-0.087582</td>\n",
       "    </tr>\n",
       "    <tr>\n",
       "      <th>track.album.release_date</th>\n",
       "      <td>0.004374</td>\n",
       "      <td>1.000000</td>\n",
       "      <td>0.111051</td>\n",
       "      <td>0.018535</td>\n",
       "      <td>0.000445</td>\n",
       "      <td>0.169939</td>\n",
       "      <td>-0.070089</td>\n",
       "      <td>0.080756</td>\n",
       "      <td>0.014602</td>\n",
       "      <td>0.084969</td>\n",
       "      <td>-0.002643</td>\n",
       "      <td>-0.189691</td>\n",
       "      <td>0.036615</td>\n",
       "      <td>-0.212066</td>\n",
       "    </tr>\n",
       "    <tr>\n",
       "      <th>danceability</th>\n",
       "      <td>0.062639</td>\n",
       "      <td>0.111051</td>\n",
       "      <td>1.000000</td>\n",
       "      <td>-0.092948</td>\n",
       "      <td>0.024347</td>\n",
       "      <td>0.054735</td>\n",
       "      <td>-0.081687</td>\n",
       "      <td>0.170880</td>\n",
       "      <td>-0.056893</td>\n",
       "      <td>-0.062653</td>\n",
       "      <td>-0.131025</td>\n",
       "      <td>0.326561</td>\n",
       "      <td>-0.188164</td>\n",
       "      <td>-0.108188</td>\n",
       "    </tr>\n",
       "    <tr>\n",
       "      <th>energy</th>\n",
       "      <td>-0.041678</td>\n",
       "      <td>0.018535</td>\n",
       "      <td>-0.092948</td>\n",
       "      <td>1.000000</td>\n",
       "      <td>0.018101</td>\n",
       "      <td>0.669120</td>\n",
       "      <td>-0.008191</td>\n",
       "      <td>-0.057363</td>\n",
       "      <td>-0.509563</td>\n",
       "      <td>0.028860</td>\n",
       "      <td>0.163011</td>\n",
       "      <td>0.144167</td>\n",
       "      <td>0.131631</td>\n",
       "      <td>-0.023146</td>\n",
       "    </tr>\n",
       "    <tr>\n",
       "      <th>key</th>\n",
       "      <td>0.001030</td>\n",
       "      <td>0.000445</td>\n",
       "      <td>0.024347</td>\n",
       "      <td>0.018101</td>\n",
       "      <td>1.000000</td>\n",
       "      <td>0.005872</td>\n",
       "      <td>-0.171748</td>\n",
       "      <td>0.016332</td>\n",
       "      <td>-0.011030</td>\n",
       "      <td>0.000840</td>\n",
       "      <td>-0.010983</td>\n",
       "      <td>0.027463</td>\n",
       "      <td>-0.006354</td>\n",
       "      <td>0.010547</td>\n",
       "    </tr>\n",
       "    <tr>\n",
       "      <th>loudness</th>\n",
       "      <td>0.097556</td>\n",
       "      <td>0.169939</td>\n",
       "      <td>0.054735</td>\n",
       "      <td>0.669120</td>\n",
       "      <td>0.005872</td>\n",
       "      <td>1.000000</td>\n",
       "      <td>-0.022952</td>\n",
       "      <td>-0.022980</td>\n",
       "      <td>-0.376445</td>\n",
       "      <td>-0.193166</td>\n",
       "      <td>0.074042</td>\n",
       "      <td>0.096731</td>\n",
       "      <td>0.076328</td>\n",
       "      <td>-0.133389</td>\n",
       "    </tr>\n",
       "    <tr>\n",
       "      <th>mode</th>\n",
       "      <td>-0.012660</td>\n",
       "      <td>-0.070089</td>\n",
       "      <td>-0.081687</td>\n",
       "      <td>-0.008191</td>\n",
       "      <td>-0.171748</td>\n",
       "      <td>-0.022952</td>\n",
       "      <td>1.000000</td>\n",
       "      <td>-0.050878</td>\n",
       "      <td>0.010211</td>\n",
       "      <td>-0.019111</td>\n",
       "      <td>-0.000380</td>\n",
       "      <td>0.010621</td>\n",
       "      <td>0.018447</td>\n",
       "      <td>0.026370</td>\n",
       "    </tr>\n",
       "    <tr>\n",
       "      <th>speechiness</th>\n",
       "      <td>-0.019513</td>\n",
       "      <td>0.080756</td>\n",
       "      <td>0.170880</td>\n",
       "      <td>-0.057363</td>\n",
       "      <td>0.016332</td>\n",
       "      <td>-0.022980</td>\n",
       "      <td>-0.050878</td>\n",
       "      <td>1.000000</td>\n",
       "      <td>0.066719</td>\n",
       "      <td>-0.150610</td>\n",
       "      <td>0.126333</td>\n",
       "      <td>0.057939</td>\n",
       "      <td>0.016879</td>\n",
       "      <td>-0.092621</td>\n",
       "    </tr>\n",
       "    <tr>\n",
       "      <th>acousticness</th>\n",
       "      <td>0.017134</td>\n",
       "      <td>0.014602</td>\n",
       "      <td>-0.056893</td>\n",
       "      <td>-0.509563</td>\n",
       "      <td>-0.011030</td>\n",
       "      <td>-0.376445</td>\n",
       "      <td>0.010211</td>\n",
       "      <td>0.066719</td>\n",
       "      <td>1.000000</td>\n",
       "      <td>-0.004430</td>\n",
       "      <td>-0.041143</td>\n",
       "      <td>-0.029288</td>\n",
       "      <td>-0.103051</td>\n",
       "      <td>-0.040851</td>\n",
       "    </tr>\n",
       "    <tr>\n",
       "      <th>instrumentalness</th>\n",
       "      <td>-0.171578</td>\n",
       "      <td>0.084969</td>\n",
       "      <td>-0.062653</td>\n",
       "      <td>0.028860</td>\n",
       "      <td>0.000840</td>\n",
       "      <td>-0.193166</td>\n",
       "      <td>-0.019111</td>\n",
       "      <td>-0.150610</td>\n",
       "      <td>-0.004430</td>\n",
       "      <td>1.000000</td>\n",
       "      <td>-0.020432</td>\n",
       "      <td>-0.281030</td>\n",
       "      <td>0.033411</td>\n",
       "      <td>0.128072</td>\n",
       "    </tr>\n",
       "    <tr>\n",
       "      <th>liveness</th>\n",
       "      <td>-0.043567</td>\n",
       "      <td>-0.002643</td>\n",
       "      <td>-0.131025</td>\n",
       "      <td>0.163011</td>\n",
       "      <td>-0.010983</td>\n",
       "      <td>0.074042</td>\n",
       "      <td>-0.000380</td>\n",
       "      <td>0.126333</td>\n",
       "      <td>-0.041143</td>\n",
       "      <td>-0.020432</td>\n",
       "      <td>1.000000</td>\n",
       "      <td>-0.033060</td>\n",
       "      <td>0.011454</td>\n",
       "      <td>-0.013537</td>\n",
       "    </tr>\n",
       "    <tr>\n",
       "      <th>valence</th>\n",
       "      <td>0.067637</td>\n",
       "      <td>-0.189691</td>\n",
       "      <td>0.326561</td>\n",
       "      <td>0.144167</td>\n",
       "      <td>0.027463</td>\n",
       "      <td>0.096731</td>\n",
       "      <td>0.010621</td>\n",
       "      <td>0.057939</td>\n",
       "      <td>-0.029288</td>\n",
       "      <td>-0.281030</td>\n",
       "      <td>-0.033060</td>\n",
       "      <td>1.000000</td>\n",
       "      <td>-0.026320</td>\n",
       "      <td>-0.053225</td>\n",
       "    </tr>\n",
       "    <tr>\n",
       "      <th>tempo</th>\n",
       "      <td>0.001455</td>\n",
       "      <td>0.036615</td>\n",
       "      <td>-0.188164</td>\n",
       "      <td>0.131631</td>\n",
       "      <td>-0.006354</td>\n",
       "      <td>0.076328</td>\n",
       "      <td>0.018447</td>\n",
       "      <td>0.016879</td>\n",
       "      <td>-0.103051</td>\n",
       "      <td>0.033411</td>\n",
       "      <td>0.011454</td>\n",
       "      <td>-0.026320</td>\n",
       "      <td>1.000000</td>\n",
       "      <td>-0.032945</td>\n",
       "    </tr>\n",
       "    <tr>\n",
       "      <th>duration_ms</th>\n",
       "      <td>-0.087582</td>\n",
       "      <td>-0.212066</td>\n",
       "      <td>-0.108188</td>\n",
       "      <td>-0.023146</td>\n",
       "      <td>0.010547</td>\n",
       "      <td>-0.133389</td>\n",
       "      <td>0.026370</td>\n",
       "      <td>-0.092621</td>\n",
       "      <td>-0.040851</td>\n",
       "      <td>0.128072</td>\n",
       "      <td>-0.013537</td>\n",
       "      <td>-0.053225</td>\n",
       "      <td>-0.032945</td>\n",
       "      <td>1.000000</td>\n",
       "    </tr>\n",
       "  </tbody>\n",
       "</table>\n",
       "</div>"
      ],
      "text/plain": [
       "                          track.popularity  track.album.release_date  \\\n",
       "track.popularity                  1.000000                  0.004374   \n",
       "track.album.release_date          0.004374                  1.000000   \n",
       "danceability                      0.062639                  0.111051   \n",
       "energy                           -0.041678                  0.018535   \n",
       "key                               0.001030                  0.000445   \n",
       "loudness                          0.097556                  0.169939   \n",
       "mode                             -0.012660                 -0.070089   \n",
       "speechiness                      -0.019513                  0.080756   \n",
       "acousticness                      0.017134                  0.014602   \n",
       "instrumentalness                 -0.171578                  0.084969   \n",
       "liveness                         -0.043567                 -0.002643   \n",
       "valence                           0.067637                 -0.189691   \n",
       "tempo                             0.001455                  0.036615   \n",
       "duration_ms                      -0.087582                 -0.212066   \n",
       "\n",
       "                          danceability    energy       key  loudness  \\\n",
       "track.popularity              0.062639 -0.041678  0.001030  0.097556   \n",
       "track.album.release_date      0.111051  0.018535  0.000445  0.169939   \n",
       "danceability                  1.000000 -0.092948  0.024347  0.054735   \n",
       "energy                       -0.092948  1.000000  0.018101  0.669120   \n",
       "key                           0.024347  0.018101  1.000000  0.005872   \n",
       "loudness                      0.054735  0.669120  0.005872  1.000000   \n",
       "mode                         -0.081687 -0.008191 -0.171748 -0.022952   \n",
       "speechiness                   0.170880 -0.057363  0.016332 -0.022980   \n",
       "acousticness                 -0.056893 -0.509563 -0.011030 -0.376445   \n",
       "instrumentalness             -0.062653  0.028860  0.000840 -0.193166   \n",
       "liveness                     -0.131025  0.163011 -0.010983  0.074042   \n",
       "valence                       0.326561  0.144167  0.027463  0.096731   \n",
       "tempo                        -0.188164  0.131631 -0.006354  0.076328   \n",
       "duration_ms                  -0.108188 -0.023146  0.010547 -0.133389   \n",
       "\n",
       "                              mode  speechiness  acousticness  \\\n",
       "track.popularity         -0.012660    -0.019513      0.017134   \n",
       "track.album.release_date -0.070089     0.080756      0.014602   \n",
       "danceability             -0.081687     0.170880     -0.056893   \n",
       "energy                   -0.008191    -0.057363     -0.509563   \n",
       "key                      -0.171748     0.016332     -0.011030   \n",
       "loudness                 -0.022952    -0.022980     -0.376445   \n",
       "mode                      1.000000    -0.050878      0.010211   \n",
       "speechiness              -0.050878     1.000000      0.066719   \n",
       "acousticness              0.010211     0.066719      1.000000   \n",
       "instrumentalness         -0.019111    -0.150610     -0.004430   \n",
       "liveness                 -0.000380     0.126333     -0.041143   \n",
       "valence                   0.010621     0.057939     -0.029288   \n",
       "tempo                     0.018447     0.016879     -0.103051   \n",
       "duration_ms               0.026370    -0.092621     -0.040851   \n",
       "\n",
       "                          instrumentalness  liveness   valence     tempo  \\\n",
       "track.popularity                 -0.171578 -0.043567  0.067637  0.001455   \n",
       "track.album.release_date          0.084969 -0.002643 -0.189691  0.036615   \n",
       "danceability                     -0.062653 -0.131025  0.326561 -0.188164   \n",
       "energy                            0.028860  0.163011  0.144167  0.131631   \n",
       "key                               0.000840 -0.010983  0.027463 -0.006354   \n",
       "loudness                         -0.193166  0.074042  0.096731  0.076328   \n",
       "mode                             -0.019111 -0.000380  0.010621  0.018447   \n",
       "speechiness                      -0.150610  0.126333  0.057939  0.016879   \n",
       "acousticness                     -0.004430 -0.041143 -0.029288 -0.103051   \n",
       "instrumentalness                  1.000000 -0.020432 -0.281030  0.033411   \n",
       "liveness                         -0.020432  1.000000 -0.033060  0.011454   \n",
       "valence                          -0.281030 -0.033060  1.000000 -0.026320   \n",
       "tempo                             0.033411  0.011454 -0.026320  1.000000   \n",
       "duration_ms                       0.128072 -0.013537 -0.053225 -0.032945   \n",
       "\n",
       "                          duration_ms  \n",
       "track.popularity            -0.087582  \n",
       "track.album.release_date    -0.212066  \n",
       "danceability                -0.108188  \n",
       "energy                      -0.023146  \n",
       "key                          0.010547  \n",
       "loudness                    -0.133389  \n",
       "mode                         0.026370  \n",
       "speechiness                 -0.092621  \n",
       "acousticness                -0.040851  \n",
       "instrumentalness             0.128072  \n",
       "liveness                    -0.013537  \n",
       "valence                     -0.053225  \n",
       "tempo                       -0.032945  \n",
       "duration_ms                  1.000000  "
      ]
     },
     "execution_count": 5,
     "metadata": {},
     "output_type": "execute_result"
    }
   ],
   "source": [
    "# Correlation matrix\n",
    "mydata = df[numerical_features]\n",
    "mydata.corr()"
   ]
  },
  {
   "cell_type": "code",
   "execution_count": 6,
   "id": "9bbd569d",
   "metadata": {},
   "outputs": [
    {
     "data": {
      "image/png": "[encoded data removed]",
      "text/plain": [
       "<Figure size 720x576 with 2 Axes>"
      ]
     },
     "metadata": {
      "needs_background": "light"
     },
     "output_type": "display_data"
    }
   ],
   "source": [
    "# heatmap\n",
    "corrmatrix = mydata.corr()\n",
    "plt.figure(figsize=(10, 8))\n",
    "sns.heatmap(corrmatrix, annot=True, cmap='coolwarm')\n",
    "plt.title('Correlation Matrix')\n",
    "plt.show()"
   ]
  },
  {
   "cell_type": "markdown",
   "id": "692f9b05",
   "metadata": {},
   "source": [
    "### 1.2 Categorical Variables"
   ]
  },
  {
   "cell_type": "code",
   "execution_count": 7,
   "id": "94fc0bf4",
   "metadata": {},
   "outputs": [
    {
     "data": {
      "text/html": [
       "<div>\n",
       "<style scoped>\n",
       "    .dataframe tbody tr th:only-of-type {\n",
       "        vertical-align: middle;\n",
       "    }\n",
       "\n",
       "    .dataframe tbody tr th {\n",
       "        vertical-align: top;\n",
       "    }\n",
       "\n",
       "    .dataframe thead th {\n",
       "        text-align: right;\n",
       "    }\n",
       "</style>\n",
       "<table border=\"1\" class=\"dataframe\">\n",
       "  <thead>\n",
       "    <tr style=\"text-align: right;\">\n",
       "      <th></th>\n",
       "      <th>track.id</th>\n",
       "      <th>track.name</th>\n",
       "      <th>track.artist</th>\n",
       "      <th>track.album.id</th>\n",
       "      <th>track.album.name</th>\n",
       "      <th>playlist_name</th>\n",
       "      <th>playlist_id</th>\n",
       "      <th>playlist_genre</th>\n",
       "      <th>playlist_subgenre</th>\n",
       "    </tr>\n",
       "  </thead>\n",
       "  <tbody>\n",
       "    <tr>\n",
       "      <th>0</th>\n",
       "      <td>18asYwWugKjjsihZ0YvRxO</td>\n",
       "      <td>The Motto</td>\n",
       "      <td>Tiësto</td>\n",
       "      <td>278z9UXJaMNDH9Bel9uAxV</td>\n",
       "      <td>The Motto</td>\n",
       "      <td>Dance Pop Hits</td>\n",
       "      <td>37i9dQZF1DWZQaaqNMbbXa</td>\n",
       "      <td>pop</td>\n",
       "      <td>dance pop</td>\n",
       "    </tr>\n",
       "    <tr>\n",
       "      <th>1</th>\n",
       "      <td>5K6Ssv4Z3zRvxt0P6EKUAP</td>\n",
       "      <td>Heartbreak Anthem (with David Guetta &amp; Little ...</td>\n",
       "      <td>Galantis</td>\n",
       "      <td>6kBuGNoOGE7uiPhN82dcJ1</td>\n",
       "      <td>Heartbreak Anthem (with David Guetta &amp; Little ...</td>\n",
       "      <td>Dance Pop Hits</td>\n",
       "      <td>37i9dQZF1DWZQaaqNMbbXa</td>\n",
       "      <td>pop</td>\n",
       "      <td>dance pop</td>\n",
       "    </tr>\n",
       "    <tr>\n",
       "      <th>2</th>\n",
       "      <td>73QyyUMMvtNELmULI4FOsp</td>\n",
       "      <td>You for Me</td>\n",
       "      <td>Sigala</td>\n",
       "      <td>2iylTVQEMYGQ9CUgn9MAAT</td>\n",
       "      <td>You for Me</td>\n",
       "      <td>Dance Pop Hits</td>\n",
       "      <td>37i9dQZF1DWZQaaqNMbbXa</td>\n",
       "      <td>pop</td>\n",
       "      <td>dance pop</td>\n",
       "    </tr>\n",
       "    <tr>\n",
       "      <th>3</th>\n",
       "      <td>463CkQjx2Zk1yXoBuierM9</td>\n",
       "      <td>Levitating (feat. DaBaby)</td>\n",
       "      <td>Dua Lipa</td>\n",
       "      <td>04m06KhJUuwe1Q487puIud</td>\n",
       "      <td>Levitating (feat. DaBaby)</td>\n",
       "      <td>Dance Pop Hits</td>\n",
       "      <td>37i9dQZF1DWZQaaqNMbbXa</td>\n",
       "      <td>pop</td>\n",
       "      <td>dance pop</td>\n",
       "    </tr>\n",
       "    <tr>\n",
       "      <th>4</th>\n",
       "      <td>79wbJeLkXOlJh4AzaWCWfL</td>\n",
       "      <td>How Will I Know</td>\n",
       "      <td>Whitney Houston</td>\n",
       "      <td>0ieUgrqfmWB4Ywu2CLWNWQ</td>\n",
       "      <td>How Will I Know</td>\n",
       "      <td>Dance Pop Hits</td>\n",
       "      <td>37i9dQZF1DWZQaaqNMbbXa</td>\n",
       "      <td>pop</td>\n",
       "      <td>dance pop</td>\n",
       "    </tr>\n",
       "  </tbody>\n",
       "</table>\n",
       "</div>"
      ],
      "text/plain": [
       "                 track.id                                         track.name  \\\n",
       "0  18asYwWugKjjsihZ0YvRxO                                          The Motto   \n",
       "1  5K6Ssv4Z3zRvxt0P6EKUAP  Heartbreak Anthem (with David Guetta & Little ...   \n",
       "2  73QyyUMMvtNELmULI4FOsp                                         You for Me   \n",
       "3  463CkQjx2Zk1yXoBuierM9                          Levitating (feat. DaBaby)   \n",
       "4  79wbJeLkXOlJh4AzaWCWfL                                    How Will I Know   \n",
       "\n",
       "      track.artist          track.album.id  \\\n",
       "0           Tiësto  278z9UXJaMNDH9Bel9uAxV   \n",
       "1         Galantis  6kBuGNoOGE7uiPhN82dcJ1   \n",
       "2           Sigala  2iylTVQEMYGQ9CUgn9MAAT   \n",
       "3         Dua Lipa  04m06KhJUuwe1Q487puIud   \n",
       "4  Whitney Houston  0ieUgrqfmWB4Ywu2CLWNWQ   \n",
       "\n",
       "                                    track.album.name   playlist_name  \\\n",
       "0                                          The Motto  Dance Pop Hits   \n",
       "1  Heartbreak Anthem (with David Guetta & Little ...  Dance Pop Hits   \n",
       "2                                         You for Me  Dance Pop Hits   \n",
       "3                          Levitating (feat. DaBaby)  Dance Pop Hits   \n",
       "4                                    How Will I Know  Dance Pop Hits   \n",
       "\n",
       "              playlist_id playlist_genre playlist_subgenre  \n",
       "0  37i9dQZF1DWZQaaqNMbbXa            pop         dance pop  \n",
       "1  37i9dQZF1DWZQaaqNMbbXa            pop         dance pop  \n",
       "2  37i9dQZF1DWZQaaqNMbbXa            pop         dance pop  \n",
       "3  37i9dQZF1DWZQaaqNMbbXa            pop         dance pop  \n",
       "4  37i9dQZF1DWZQaaqNMbbXa            pop         dance pop  "
      ]
     },
     "execution_count": 7,
     "metadata": {},
     "output_type": "execute_result"
    }
   ],
   "source": [
    "categorical_features=[feature for feature in df.columns if df[feature].dtypes=='O']\n",
    "df[categorical_features].head()"
   ]
  },
  {
   "cell_type": "code",
   "execution_count": 9,
   "id": "9e9140a0",
   "metadata": {},
   "outputs": [
    {
     "data": {
      "text/plain": [
       "track.id             object\n",
       "track.name           object\n",
       "track.artist         object\n",
       "track.album.id       object\n",
       "track.album.name     object\n",
       "playlist_name        object\n",
       "playlist_id          object\n",
       "playlist_genre       object\n",
       "playlist_subgenre    object\n",
       "dtype: object"
      ]
     },
     "execution_count": 9,
     "metadata": {},
     "output_type": "execute_result"
    }
   ],
   "source": [
    "df[categorical_features].dtypes"
   ]
  },
  {
   "cell_type": "code",
   "execution_count": 8,
   "id": "a0f0db35",
   "metadata": {},
   "outputs": [
    {
     "data": {
      "text/plain": [
       "Text(0.5, 1.0, 'Date vs Track Popularity')"
      ]
     },
     "execution_count": 8,
     "metadata": {},
     "output_type": "execute_result"
    },
    {
     "data": {
      "image/png": "[encoded data removed]",
      "text/plain": [
       "<Figure size 432x288 with 1 Axes>"
      ]
     },
     "metadata": {
      "needs_background": "light"
     },
     "output_type": "display_data"
    }
   ],
   "source": [
    "## I will check whether there is a relation between date factor and popularity factors were observed \n",
    "\n",
    "df.groupby('track.album.release_date')['track.popularity'].median().plot()\n",
    "plt.xlabel('track.album.release_date')\n",
    "plt.ylabel('track.popularity')\n",
    "plt.title(\"Date vs Track Popularity\")\n",
    "\n",
    "#Show the mean popularity of songs decrease over time --> people's standard is harder??"
   ]
  },
  {
   "cell_type": "markdown",
   "id": "f3177460",
   "metadata": {},
   "source": [
    "### 1.3 Missing Value "
   ]
  },
  {
   "cell_type": "code",
   "execution_count": 9,
   "id": "02909113",
   "metadata": {},
   "outputs": [
    {
     "data": {
      "text/plain": [
       "track.id                    0\n",
       "track.name                  1\n",
       "track.artist                1\n",
       "track.popularity            0\n",
       "track.album.id              0\n",
       "track.album.name            1\n",
       "track.album.release_date    0\n",
       "playlist_name               0\n",
       "playlist_id                 0\n",
       "playlist_genre              0\n",
       "playlist_subgenre           0\n",
       "danceability                0\n",
       "energy                      0\n",
       "key                         0\n",
       "loudness                    0\n",
       "mode                        0\n",
       "speechiness                 0\n",
       "acousticness                0\n",
       "instrumentalness            0\n",
       "liveness                    0\n",
       "valence                     0\n",
       "tempo                       0\n",
       "duration_ms                 0\n",
       "dtype: int64"
      ]
     },
     "execution_count": 9,
     "metadata": {},
     "output_type": "execute_result"
    }
   ],
   "source": [
    "#sns.heatmap(df.isna(), yticklabels=False, cbar=False, cmap='viridis')\n",
    "df.isna().sum()\n",
    "##Show no N/A value"
   ]
  },
  {
   "cell_type": "code",
   "execution_count": 10,
   "id": "178621b7",
   "metadata": {},
   "outputs": [
    {
     "data": {
      "text/plain": [
       "<AxesSubplot:>"
      ]
     },
     "execution_count": 10,
     "metadata": {},
     "output_type": "execute_result"
    },
    {
     "data": {
      "image/png": "[encoded data removed]",
      "text/plain": [
       "<Figure size 432x288 with 1 Axes>"
      ]
     },
     "metadata": {
      "needs_background": "light"
     },
     "output_type": "display_data"
    }
   ],
   "source": [
    "sns.heatmap(df.astype(bool), yticklabels=False, cbar=False, cmap='viridis')\n",
    "\n",
    "## key: 0 is acceptable because 0 = C \n",
    "## mode: 0 is acceptable cause its domain (0,1)\n",
    "## instrumentalness: acceptable cause the closer the instrumentalness value is to 0, the greater likelihood the track contains vocal content. \n",
    "\n"
   ]
  },
  {
   "cell_type": "markdown",
   "id": "cf58275d",
   "metadata": {},
   "source": [
    "## 2. Feature Engineering"
   ]
  },
  {
   "cell_type": "code",
   "execution_count": 11,
   "id": "c870397b",
   "metadata": {},
   "outputs": [
    {
     "data": {
      "text/html": [
       "<div>\n",
       "<style scoped>\n",
       "    .dataframe tbody tr th:only-of-type {\n",
       "        vertical-align: middle;\n",
       "    }\n",
       "\n",
       "    .dataframe tbody tr th {\n",
       "        vertical-align: top;\n",
       "    }\n",
       "\n",
       "    .dataframe thead th {\n",
       "        text-align: right;\n",
       "    }\n",
       "</style>\n",
       "<table border=\"1\" class=\"dataframe\">\n",
       "  <thead>\n",
       "    <tr style=\"text-align: right;\">\n",
       "      <th></th>\n",
       "      <th>track.id</th>\n",
       "      <th>track.name</th>\n",
       "      <th>track.artist</th>\n",
       "      <th>track.album.id</th>\n",
       "      <th>track.album.name</th>\n",
       "      <th>track.album.release_date</th>\n",
       "      <th>playlist_name</th>\n",
       "      <th>playlist_id</th>\n",
       "      <th>playlist_genre</th>\n",
       "      <th>playlist_subgenre</th>\n",
       "      <th>...</th>\n",
       "      <th>loudness</th>\n",
       "      <th>mode</th>\n",
       "      <th>speechiness</th>\n",
       "      <th>acousticness</th>\n",
       "      <th>instrumentalness</th>\n",
       "      <th>liveness</th>\n",
       "      <th>valence</th>\n",
       "      <th>tempo</th>\n",
       "      <th>duration_ms</th>\n",
       "      <th>popularity_encoded</th>\n",
       "    </tr>\n",
       "  </thead>\n",
       "  <tbody>\n",
       "    <tr>\n",
       "      <th>0</th>\n",
       "      <td>18asYwWugKjjsihZ0YvRxO</td>\n",
       "      <td>The Motto</td>\n",
       "      <td>Tiësto</td>\n",
       "      <td>278z9UXJaMNDH9Bel9uAxV</td>\n",
       "      <td>The Motto</td>\n",
       "      <td>2021</td>\n",
       "      <td>Dance Pop Hits</td>\n",
       "      <td>37i9dQZF1DWZQaaqNMbbXa</td>\n",
       "      <td>pop</td>\n",
       "      <td>dance pop</td>\n",
       "      <td>...</td>\n",
       "      <td>-4.627</td>\n",
       "      <td>0</td>\n",
       "      <td>0.0435</td>\n",
       "      <td>0.03010</td>\n",
       "      <td>0.000022</td>\n",
       "      <td>0.0901</td>\n",
       "      <td>0.464</td>\n",
       "      <td>117.953</td>\n",
       "      <td>164819</td>\n",
       "      <td>1</td>\n",
       "    </tr>\n",
       "    <tr>\n",
       "      <th>1</th>\n",
       "      <td>5K6Ssv4Z3zRvxt0P6EKUAP</td>\n",
       "      <td>Heartbreak Anthem (with David Guetta &amp; Little ...</td>\n",
       "      <td>Galantis</td>\n",
       "      <td>6kBuGNoOGE7uiPhN82dcJ1</td>\n",
       "      <td>Heartbreak Anthem (with David Guetta &amp; Little ...</td>\n",
       "      <td>2021</td>\n",
       "      <td>Dance Pop Hits</td>\n",
       "      <td>37i9dQZF1DWZQaaqNMbbXa</td>\n",
       "      <td>pop</td>\n",
       "      <td>dance pop</td>\n",
       "      <td>...</td>\n",
       "      <td>-4.878</td>\n",
       "      <td>1</td>\n",
       "      <td>0.1020</td>\n",
       "      <td>0.21600</td>\n",
       "      <td>0.000000</td>\n",
       "      <td>0.0608</td>\n",
       "      <td>0.479</td>\n",
       "      <td>124.111</td>\n",
       "      <td>183726</td>\n",
       "      <td>1</td>\n",
       "    </tr>\n",
       "    <tr>\n",
       "      <th>2</th>\n",
       "      <td>73QyyUMMvtNELmULI4FOsp</td>\n",
       "      <td>You for Me</td>\n",
       "      <td>Sigala</td>\n",
       "      <td>2iylTVQEMYGQ9CUgn9MAAT</td>\n",
       "      <td>You for Me</td>\n",
       "      <td>2021</td>\n",
       "      <td>Dance Pop Hits</td>\n",
       "      <td>37i9dQZF1DWZQaaqNMbbXa</td>\n",
       "      <td>pop</td>\n",
       "      <td>dance pop</td>\n",
       "      <td>...</td>\n",
       "      <td>-1.856</td>\n",
       "      <td>0</td>\n",
       "      <td>0.0426</td>\n",
       "      <td>0.04810</td>\n",
       "      <td>0.000002</td>\n",
       "      <td>0.1910</td>\n",
       "      <td>0.696</td>\n",
       "      <td>126.031</td>\n",
       "      <td>175435</td>\n",
       "      <td>1</td>\n",
       "    </tr>\n",
       "    <tr>\n",
       "      <th>3</th>\n",
       "      <td>463CkQjx2Zk1yXoBuierM9</td>\n",
       "      <td>Levitating (feat. DaBaby)</td>\n",
       "      <td>Dua Lipa</td>\n",
       "      <td>04m06KhJUuwe1Q487puIud</td>\n",
       "      <td>Levitating (feat. DaBaby)</td>\n",
       "      <td>2020</td>\n",
       "      <td>Dance Pop Hits</td>\n",
       "      <td>37i9dQZF1DWZQaaqNMbbXa</td>\n",
       "      <td>pop</td>\n",
       "      <td>dance pop</td>\n",
       "      <td>...</td>\n",
       "      <td>-3.787</td>\n",
       "      <td>0</td>\n",
       "      <td>0.0601</td>\n",
       "      <td>0.00883</td>\n",
       "      <td>0.000000</td>\n",
       "      <td>0.0674</td>\n",
       "      <td>0.915</td>\n",
       "      <td>102.977</td>\n",
       "      <td>203064</td>\n",
       "      <td>1</td>\n",
       "    </tr>\n",
       "    <tr>\n",
       "      <th>4</th>\n",
       "      <td>79wbJeLkXOlJh4AzaWCWfL</td>\n",
       "      <td>How Will I Know</td>\n",
       "      <td>Whitney Houston</td>\n",
       "      <td>0ieUgrqfmWB4Ywu2CLWNWQ</td>\n",
       "      <td>How Will I Know</td>\n",
       "      <td>2021</td>\n",
       "      <td>Dance Pop Hits</td>\n",
       "      <td>37i9dQZF1DWZQaaqNMbbXa</td>\n",
       "      <td>pop</td>\n",
       "      <td>dance pop</td>\n",
       "      <td>...</td>\n",
       "      <td>-3.591</td>\n",
       "      <td>1</td>\n",
       "      <td>0.0369</td>\n",
       "      <td>0.17800</td>\n",
       "      <td>0.000003</td>\n",
       "      <td>0.2300</td>\n",
       "      <td>0.656</td>\n",
       "      <td>118.997</td>\n",
       "      <td>213436</td>\n",
       "      <td>1</td>\n",
       "    </tr>\n",
       "  </tbody>\n",
       "</table>\n",
       "<p>5 rows × 23 columns</p>\n",
       "</div>"
      ],
      "text/plain": [
       "                 track.id                                         track.name  \\\n",
       "0  18asYwWugKjjsihZ0YvRxO                                          The Motto   \n",
       "1  5K6Ssv4Z3zRvxt0P6EKUAP  Heartbreak Anthem (with David Guetta & Little ...   \n",
       "2  73QyyUMMvtNELmULI4FOsp                                         You for Me   \n",
       "3  463CkQjx2Zk1yXoBuierM9                          Levitating (feat. DaBaby)   \n",
       "4  79wbJeLkXOlJh4AzaWCWfL                                    How Will I Know   \n",
       "\n",
       "      track.artist          track.album.id  \\\n",
       "0           Tiësto  278z9UXJaMNDH9Bel9uAxV   \n",
       "1         Galantis  6kBuGNoOGE7uiPhN82dcJ1   \n",
       "2           Sigala  2iylTVQEMYGQ9CUgn9MAAT   \n",
       "3         Dua Lipa  04m06KhJUuwe1Q487puIud   \n",
       "4  Whitney Houston  0ieUgrqfmWB4Ywu2CLWNWQ   \n",
       "\n",
       "                                    track.album.name  \\\n",
       "0                                          The Motto   \n",
       "1  Heartbreak Anthem (with David Guetta & Little ...   \n",
       "2                                         You for Me   \n",
       "3                          Levitating (feat. DaBaby)   \n",
       "4                                    How Will I Know   \n",
       "\n",
       "   track.album.release_date   playlist_name             playlist_id  \\\n",
       "0                      2021  Dance Pop Hits  37i9dQZF1DWZQaaqNMbbXa   \n",
       "1                      2021  Dance Pop Hits  37i9dQZF1DWZQaaqNMbbXa   \n",
       "2                      2021  Dance Pop Hits  37i9dQZF1DWZQaaqNMbbXa   \n",
       "3                      2020  Dance Pop Hits  37i9dQZF1DWZQaaqNMbbXa   \n",
       "4                      2021  Dance Pop Hits  37i9dQZF1DWZQaaqNMbbXa   \n",
       "\n",
       "  playlist_genre playlist_subgenre  ...  loudness  mode  speechiness  \\\n",
       "0            pop         dance pop  ...    -4.627     0       0.0435   \n",
       "1            pop         dance pop  ...    -4.878     1       0.1020   \n",
       "2            pop         dance pop  ...    -1.856     0       0.0426   \n",
       "3            pop         dance pop  ...    -3.787     0       0.0601   \n",
       "4            pop         dance pop  ...    -3.591     1       0.0369   \n",
       "\n",
       "   acousticness  instrumentalness  liveness  valence    tempo  duration_ms  \\\n",
       "0       0.03010          0.000022    0.0901    0.464  117.953       164819   \n",
       "1       0.21600          0.000000    0.0608    0.479  124.111       183726   \n",
       "2       0.04810          0.000002    0.1910    0.696  126.031       175435   \n",
       "3       0.00883          0.000000    0.0674    0.915  102.977       203064   \n",
       "4       0.17800          0.000003    0.2300    0.656  118.997       213436   \n",
       "\n",
       "   popularity_encoded  \n",
       "0                   1  \n",
       "1                   1  \n",
       "2                   1  \n",
       "3                   1  \n",
       "4                   1  \n",
       "\n",
       "[5 rows x 23 columns]"
      ]
     },
     "execution_count": 11,
     "metadata": {},
     "output_type": "execute_result"
    }
   ],
   "source": [
    "#Convert track.popularity to binary output\n",
    "#Adding popularity_encoded column which contains the binary \n",
    "df['popularity_encoded'] = (df['track.popularity'] > 60).astype(int)\n",
    "df = df.drop(columns=['track.popularity'])\n",
    "df.head()"
   ]
  },
  {
   "cell_type": "code",
   "execution_count": 12,
   "id": "49a4cdf7",
   "metadata": {},
   "outputs": [],
   "source": [
    "df['duration_minutes'] = df['duration_ms'] / 60000"
   ]
  },
  {
   "cell_type": "code",
   "execution_count": 13,
   "id": "a9bdf40f",
   "metadata": {},
   "outputs": [],
   "source": [
    "df = df.drop('duration_ms', axis=1)"
   ]
  },
  {
   "cell_type": "code",
   "execution_count": 14,
   "id": "a2c9a7fd",
   "metadata": {},
   "outputs": [
    {
     "data": {
      "text/plain": [
       "0    22401\n",
       "1    11679\n",
       "Name: popularity_encoded, dtype: int64"
      ]
     },
     "execution_count": 14,
     "metadata": {},
     "output_type": "execute_result"
    }
   ],
   "source": [
    "#checking distribution of 0's and 1's\n",
    "df['popularity_encoded'].value_counts()"
   ]
  },
  {
   "cell_type": "code",
   "execution_count": 15,
   "id": "fe11cc47",
   "metadata": {},
   "outputs": [
    {
     "data": {
      "image/png": "[encoded data removed]",
      "text/plain": [
       "<Figure size 432x288 with 1 Axes>"
      ]
     },
     "metadata": {
      "needs_background": "light"
     },
     "output_type": "display_data"
    }
   ],
   "source": [
    "import matplotlib.pyplot as plt\n",
    "\n",
    "counts = df['popularity_encoded'].value_counts()\n",
    "labels = ['Not Popular', 'Popular']\n",
    "plt.bar(range(len(counts)), counts)\n",
    "plt.xticks(range(len(counts)), labels)\n",
    "plt.xlabel('Popularity')\n",
    "plt.ylabel('Count')\n",
    "for i, v in enumerate(counts):\n",
    "    plt.text(i, v, str(v), color='black', ha='center')\n",
    "plt.show()\n",
    "\n"
   ]
  },
  {
   "cell_type": "code",
   "execution_count": 16,
   "id": "77408fda",
   "metadata": {},
   "outputs": [
    {
     "data": {
      "text/plain": [
       "(5953, 23)"
      ]
     },
     "execution_count": 16,
     "metadata": {},
     "output_type": "execute_result"
    }
   ],
   "source": [
    "#Dataset of each genre\n",
    "df_rap = df[df['playlist_genre']== 'rap']\n",
    "df_rap.shape"
   ]
  },
  {
   "cell_type": "code",
   "execution_count": 17,
   "id": "3cb1281d",
   "metadata": {},
   "outputs": [
    {
     "data": {
      "text/plain": [
       "(5940, 23)"
      ]
     },
     "execution_count": 17,
     "metadata": {},
     "output_type": "execute_result"
    }
   ],
   "source": [
    "df_edm = df[df['playlist_genre']== 'edm']\n",
    "df_edm.shape"
   ]
  },
  {
   "cell_type": "code",
   "execution_count": 18,
   "id": "79dd4c14",
   "metadata": {},
   "outputs": [
    {
     "data": {
      "text/plain": [
       "(5909, 23)"
      ]
     },
     "execution_count": 18,
     "metadata": {},
     "output_type": "execute_result"
    }
   ],
   "source": [
    "df_pop = df[df['playlist_genre']== 'pop']\n",
    "df_pop.shape"
   ]
  },
  {
   "cell_type": "code",
   "execution_count": 19,
   "id": "49c9e10d",
   "metadata": {},
   "outputs": [
    {
     "data": {
      "text/plain": [
       "(5389, 23)"
      ]
     },
     "execution_count": 19,
     "metadata": {},
     "output_type": "execute_result"
    }
   ],
   "source": [
    "df_rock = df[df['playlist_genre']== 'rock']\n",
    "df_rock.shape"
   ]
  },
  {
   "cell_type": "code",
   "execution_count": 20,
   "id": "02428924",
   "metadata": {},
   "outputs": [
    {
     "data": {
      "text/plain": [
       "(5746, 23)"
      ]
     },
     "execution_count": 20,
     "metadata": {},
     "output_type": "execute_result"
    }
   ],
   "source": [
    "df_rb = df[df['playlist_genre']== 'r&b']\n",
    "df_rb.shape"
   ]
  },
  {
   "cell_type": "code",
   "execution_count": 21,
   "id": "70940137",
   "metadata": {},
   "outputs": [
    {
     "data": {
      "text/plain": [
       "(5143, 23)"
      ]
     },
     "execution_count": 21,
     "metadata": {},
     "output_type": "execute_result"
    }
   ],
   "source": [
    "df_latin = df[df['playlist_genre'] == 'latin']\n",
    "df_latin.shape"
   ]
  },
  {
   "cell_type": "markdown",
   "id": "01e16238",
   "metadata": {},
   "source": [
    "- Encoding the categorical features\n",
    "\n",
    "- Scalling on numerical feature\n",
    "\n",
    "- Scaling on the popularity variable to achieve Normal Distribution¶"
   ]
  },
  {
   "cell_type": "code",
   "execution_count": 22,
   "id": "cd2769af",
   "metadata": {},
   "outputs": [
    {
     "data": {
      "text/html": [
       "<div>\n",
       "<style scoped>\n",
       "    .dataframe tbody tr th:only-of-type {\n",
       "        vertical-align: middle;\n",
       "    }\n",
       "\n",
       "    .dataframe tbody tr th {\n",
       "        vertical-align: top;\n",
       "    }\n",
       "\n",
       "    .dataframe thead th {\n",
       "        text-align: right;\n",
       "    }\n",
       "</style>\n",
       "<table border=\"1\" class=\"dataframe\">\n",
       "  <thead>\n",
       "    <tr style=\"text-align: right;\">\n",
       "      <th></th>\n",
       "      <th>track.id</th>\n",
       "      <th>track.name</th>\n",
       "      <th>track.artist</th>\n",
       "      <th>track.album.id</th>\n",
       "      <th>track.album.name</th>\n",
       "      <th>track.album.release_date</th>\n",
       "      <th>playlist_name</th>\n",
       "      <th>playlist_id</th>\n",
       "      <th>playlist_genre</th>\n",
       "      <th>playlist_subgenre</th>\n",
       "      <th>...</th>\n",
       "      <th>loudness</th>\n",
       "      <th>mode</th>\n",
       "      <th>speechiness</th>\n",
       "      <th>acousticness</th>\n",
       "      <th>instrumentalness</th>\n",
       "      <th>liveness</th>\n",
       "      <th>valence</th>\n",
       "      <th>tempo</th>\n",
       "      <th>popularity_encoded</th>\n",
       "      <th>duration_minutes</th>\n",
       "    </tr>\n",
       "  </thead>\n",
       "  <tbody>\n",
       "    <tr>\n",
       "      <th>0</th>\n",
       "      <td>18asYwWugKjjsihZ0YvRxO</td>\n",
       "      <td>The Motto</td>\n",
       "      <td>Tiësto</td>\n",
       "      <td>278z9UXJaMNDH9Bel9uAxV</td>\n",
       "      <td>The Motto</td>\n",
       "      <td>2021</td>\n",
       "      <td>Dance Pop Hits</td>\n",
       "      <td>37i9dQZF1DWZQaaqNMbbXa</td>\n",
       "      <td>pop</td>\n",
       "      <td>dance pop</td>\n",
       "      <td>...</td>\n",
       "      <td>-4.627</td>\n",
       "      <td>0</td>\n",
       "      <td>0.0435</td>\n",
       "      <td>0.03010</td>\n",
       "      <td>0.000022</td>\n",
       "      <td>0.0901</td>\n",
       "      <td>0.464</td>\n",
       "      <td>117.953</td>\n",
       "      <td>1</td>\n",
       "      <td>2.746983</td>\n",
       "    </tr>\n",
       "    <tr>\n",
       "      <th>1</th>\n",
       "      <td>5K6Ssv4Z3zRvxt0P6EKUAP</td>\n",
       "      <td>Heartbreak Anthem (with David Guetta &amp; Little ...</td>\n",
       "      <td>Galantis</td>\n",
       "      <td>6kBuGNoOGE7uiPhN82dcJ1</td>\n",
       "      <td>Heartbreak Anthem (with David Guetta &amp; Little ...</td>\n",
       "      <td>2021</td>\n",
       "      <td>Dance Pop Hits</td>\n",
       "      <td>37i9dQZF1DWZQaaqNMbbXa</td>\n",
       "      <td>pop</td>\n",
       "      <td>dance pop</td>\n",
       "      <td>...</td>\n",
       "      <td>-4.878</td>\n",
       "      <td>1</td>\n",
       "      <td>0.1020</td>\n",
       "      <td>0.21600</td>\n",
       "      <td>0.000000</td>\n",
       "      <td>0.0608</td>\n",
       "      <td>0.479</td>\n",
       "      <td>124.111</td>\n",
       "      <td>1</td>\n",
       "      <td>3.062100</td>\n",
       "    </tr>\n",
       "    <tr>\n",
       "      <th>2</th>\n",
       "      <td>73QyyUMMvtNELmULI4FOsp</td>\n",
       "      <td>You for Me</td>\n",
       "      <td>Sigala</td>\n",
       "      <td>2iylTVQEMYGQ9CUgn9MAAT</td>\n",
       "      <td>You for Me</td>\n",
       "      <td>2021</td>\n",
       "      <td>Dance Pop Hits</td>\n",
       "      <td>37i9dQZF1DWZQaaqNMbbXa</td>\n",
       "      <td>pop</td>\n",
       "      <td>dance pop</td>\n",
       "      <td>...</td>\n",
       "      <td>-1.856</td>\n",
       "      <td>0</td>\n",
       "      <td>0.0426</td>\n",
       "      <td>0.04810</td>\n",
       "      <td>0.000002</td>\n",
       "      <td>0.1910</td>\n",
       "      <td>0.696</td>\n",
       "      <td>126.031</td>\n",
       "      <td>1</td>\n",
       "      <td>2.923917</td>\n",
       "    </tr>\n",
       "    <tr>\n",
       "      <th>3</th>\n",
       "      <td>463CkQjx2Zk1yXoBuierM9</td>\n",
       "      <td>Levitating (feat. DaBaby)</td>\n",
       "      <td>Dua Lipa</td>\n",
       "      <td>04m06KhJUuwe1Q487puIud</td>\n",
       "      <td>Levitating (feat. DaBaby)</td>\n",
       "      <td>2020</td>\n",
       "      <td>Dance Pop Hits</td>\n",
       "      <td>37i9dQZF1DWZQaaqNMbbXa</td>\n",
       "      <td>pop</td>\n",
       "      <td>dance pop</td>\n",
       "      <td>...</td>\n",
       "      <td>-3.787</td>\n",
       "      <td>0</td>\n",
       "      <td>0.0601</td>\n",
       "      <td>0.00883</td>\n",
       "      <td>0.000000</td>\n",
       "      <td>0.0674</td>\n",
       "      <td>0.915</td>\n",
       "      <td>102.977</td>\n",
       "      <td>1</td>\n",
       "      <td>3.384400</td>\n",
       "    </tr>\n",
       "    <tr>\n",
       "      <th>4</th>\n",
       "      <td>79wbJeLkXOlJh4AzaWCWfL</td>\n",
       "      <td>How Will I Know</td>\n",
       "      <td>Whitney Houston</td>\n",
       "      <td>0ieUgrqfmWB4Ywu2CLWNWQ</td>\n",
       "      <td>How Will I Know</td>\n",
       "      <td>2021</td>\n",
       "      <td>Dance Pop Hits</td>\n",
       "      <td>37i9dQZF1DWZQaaqNMbbXa</td>\n",
       "      <td>pop</td>\n",
       "      <td>dance pop</td>\n",
       "      <td>...</td>\n",
       "      <td>-3.591</td>\n",
       "      <td>1</td>\n",
       "      <td>0.0369</td>\n",
       "      <td>0.17800</td>\n",
       "      <td>0.000003</td>\n",
       "      <td>0.2300</td>\n",
       "      <td>0.656</td>\n",
       "      <td>118.997</td>\n",
       "      <td>1</td>\n",
       "      <td>3.557267</td>\n",
       "    </tr>\n",
       "  </tbody>\n",
       "</table>\n",
       "<p>5 rows × 23 columns</p>\n",
       "</div>"
      ],
      "text/plain": [
       "                 track.id                                         track.name  \\\n",
       "0  18asYwWugKjjsihZ0YvRxO                                          The Motto   \n",
       "1  5K6Ssv4Z3zRvxt0P6EKUAP  Heartbreak Anthem (with David Guetta & Little ...   \n",
       "2  73QyyUMMvtNELmULI4FOsp                                         You for Me   \n",
       "3  463CkQjx2Zk1yXoBuierM9                          Levitating (feat. DaBaby)   \n",
       "4  79wbJeLkXOlJh4AzaWCWfL                                    How Will I Know   \n",
       "\n",
       "      track.artist          track.album.id  \\\n",
       "0           Tiësto  278z9UXJaMNDH9Bel9uAxV   \n",
       "1         Galantis  6kBuGNoOGE7uiPhN82dcJ1   \n",
       "2           Sigala  2iylTVQEMYGQ9CUgn9MAAT   \n",
       "3         Dua Lipa  04m06KhJUuwe1Q487puIud   \n",
       "4  Whitney Houston  0ieUgrqfmWB4Ywu2CLWNWQ   \n",
       "\n",
       "                                    track.album.name  \\\n",
       "0                                          The Motto   \n",
       "1  Heartbreak Anthem (with David Guetta & Little ...   \n",
       "2                                         You for Me   \n",
       "3                          Levitating (feat. DaBaby)   \n",
       "4                                    How Will I Know   \n",
       "\n",
       "   track.album.release_date   playlist_name             playlist_id  \\\n",
       "0                      2021  Dance Pop Hits  37i9dQZF1DWZQaaqNMbbXa   \n",
       "1                      2021  Dance Pop Hits  37i9dQZF1DWZQaaqNMbbXa   \n",
       "2                      2021  Dance Pop Hits  37i9dQZF1DWZQaaqNMbbXa   \n",
       "3                      2020  Dance Pop Hits  37i9dQZF1DWZQaaqNMbbXa   \n",
       "4                      2021  Dance Pop Hits  37i9dQZF1DWZQaaqNMbbXa   \n",
       "\n",
       "  playlist_genre playlist_subgenre  ...  loudness  mode  speechiness  \\\n",
       "0            pop         dance pop  ...    -4.627     0       0.0435   \n",
       "1            pop         dance pop  ...    -4.878     1       0.1020   \n",
       "2            pop         dance pop  ...    -1.856     0       0.0426   \n",
       "3            pop         dance pop  ...    -3.787     0       0.0601   \n",
       "4            pop         dance pop  ...    -3.591     1       0.0369   \n",
       "\n",
       "   acousticness  instrumentalness  liveness  valence    tempo  \\\n",
       "0       0.03010          0.000022    0.0901    0.464  117.953   \n",
       "1       0.21600          0.000000    0.0608    0.479  124.111   \n",
       "2       0.04810          0.000002    0.1910    0.696  126.031   \n",
       "3       0.00883          0.000000    0.0674    0.915  102.977   \n",
       "4       0.17800          0.000003    0.2300    0.656  118.997   \n",
       "\n",
       "   popularity_encoded  duration_minutes  \n",
       "0                   1          2.746983  \n",
       "1                   1          3.062100  \n",
       "2                   1          2.923917  \n",
       "3                   1          3.384400  \n",
       "4                   1          3.557267  \n",
       "\n",
       "[5 rows x 23 columns]"
      ]
     },
     "execution_count": 22,
     "metadata": {},
     "output_type": "execute_result"
    }
   ],
   "source": [
    "df.head()"
   ]
  },
  {
   "cell_type": "markdown",
   "id": "39d01d54",
   "metadata": {},
   "source": [
    "### 2.1 Encoding the categorical fearures"
   ]
  },
  {
   "cell_type": "code",
   "execution_count": 23,
   "id": "55f00020",
   "metadata": {},
   "outputs": [],
   "source": [
    "def encoder(df):\n",
    "    le = LabelEncoder()\n",
    "    for col in df.columns:\n",
    "        if df[col].dtypes == 'object':\n",
    "            df[col] = le.fit_transform(df[col])\n",
    "            le_dict = dict(zip(le.classes_, le.transform(le.classes_)))\n",
    "    return df"
   ]
  },
  {
   "cell_type": "code",
   "execution_count": 61,
   "id": "e39798d4",
   "metadata": {},
   "outputs": [],
   "source": [
    "df_encoded = encoder(df)\n",
    "df_rap_encoded = encoder(df_rap)\n",
    "df_edm_encoded = encoder(df_edm)\n",
    "df_pop_encoded = encoder(df_pop)\n",
    "df_rock_encoded = encoder(df_rock)\n",
    "df_latin_encoded = encoder(df_latin)\n",
    "df_rb_encoded = encoder(df_rb)\n"
   ]
  },
  {
   "cell_type": "code",
   "execution_count": 25,
   "id": "8190fb29",
   "metadata": {},
   "outputs": [
    {
     "data": {
      "text/html": [
       "<div>\n",
       "<style scoped>\n",
       "    .dataframe tbody tr th:only-of-type {\n",
       "        vertical-align: middle;\n",
       "    }\n",
       "\n",
       "    .dataframe tbody tr th {\n",
       "        vertical-align: top;\n",
       "    }\n",
       "\n",
       "    .dataframe thead th {\n",
       "        text-align: right;\n",
       "    }\n",
       "</style>\n",
       "<table border=\"1\" class=\"dataframe\">\n",
       "  <thead>\n",
       "    <tr style=\"text-align: right;\">\n",
       "      <th></th>\n",
       "      <th>track.id</th>\n",
       "      <th>track.name</th>\n",
       "      <th>track.artist</th>\n",
       "      <th>track.album.id</th>\n",
       "      <th>track.album.name</th>\n",
       "      <th>track.album.release_date</th>\n",
       "      <th>playlist_name</th>\n",
       "      <th>playlist_id</th>\n",
       "      <th>playlist_genre</th>\n",
       "      <th>playlist_subgenre</th>\n",
       "      <th>...</th>\n",
       "      <th>loudness</th>\n",
       "      <th>mode</th>\n",
       "      <th>speechiness</th>\n",
       "      <th>acousticness</th>\n",
       "      <th>instrumentalness</th>\n",
       "      <th>liveness</th>\n",
       "      <th>valence</th>\n",
       "      <th>tempo</th>\n",
       "      <th>popularity_encoded</th>\n",
       "      <th>duration_minutes</th>\n",
       "    </tr>\n",
       "  </thead>\n",
       "  <tbody>\n",
       "    <tr>\n",
       "      <th>0</th>\n",
       "      <td>4359</td>\n",
       "      <td>20729</td>\n",
       "      <td>9232</td>\n",
       "      <td>6280</td>\n",
       "      <td>17057</td>\n",
       "      <td>2021</td>\n",
       "      <td>89</td>\n",
       "      <td>168</td>\n",
       "      <td>2</td>\n",
       "      <td>3</td>\n",
       "      <td>...</td>\n",
       "      <td>-4.627</td>\n",
       "      <td>0</td>\n",
       "      <td>0.0435</td>\n",
       "      <td>0.03010</td>\n",
       "      <td>0.000022</td>\n",
       "      <td>0.0901</td>\n",
       "      <td>0.464</td>\n",
       "      <td>117.953</td>\n",
       "      <td>1</td>\n",
       "      <td>2.746983</td>\n",
       "    </tr>\n",
       "    <tr>\n",
       "      <th>1</th>\n",
       "      <td>20286</td>\n",
       "      <td>8694</td>\n",
       "      <td>3377</td>\n",
       "      <td>19859</td>\n",
       "      <td>7294</td>\n",
       "      <td>2021</td>\n",
       "      <td>89</td>\n",
       "      <td>168</td>\n",
       "      <td>2</td>\n",
       "      <td>3</td>\n",
       "      <td>...</td>\n",
       "      <td>-4.878</td>\n",
       "      <td>1</td>\n",
       "      <td>0.1020</td>\n",
       "      <td>0.21600</td>\n",
       "      <td>0.000000</td>\n",
       "      <td>0.0608</td>\n",
       "      <td>0.479</td>\n",
       "      <td>124.111</td>\n",
       "      <td>1</td>\n",
       "      <td>3.062100</td>\n",
       "    </tr>\n",
       "    <tr>\n",
       "      <th>2</th>\n",
       "      <td>26839</td>\n",
       "      <td>23842</td>\n",
       "      <td>8209</td>\n",
       "      <td>8064</td>\n",
       "      <td>19538</td>\n",
       "      <td>2021</td>\n",
       "      <td>89</td>\n",
       "      <td>168</td>\n",
       "      <td>2</td>\n",
       "      <td>3</td>\n",
       "      <td>...</td>\n",
       "      <td>-1.856</td>\n",
       "      <td>0</td>\n",
       "      <td>0.0426</td>\n",
       "      <td>0.04810</td>\n",
       "      <td>0.000002</td>\n",
       "      <td>0.1910</td>\n",
       "      <td>0.696</td>\n",
       "      <td>126.031</td>\n",
       "      <td>1</td>\n",
       "      <td>2.923917</td>\n",
       "    </tr>\n",
       "    <tr>\n",
       "      <th>3</th>\n",
       "      <td>15651</td>\n",
       "      <td>11914</td>\n",
       "      <td>2617</td>\n",
       "      <td>267</td>\n",
       "      <td>9542</td>\n",
       "      <td>2020</td>\n",
       "      <td>89</td>\n",
       "      <td>168</td>\n",
       "      <td>2</td>\n",
       "      <td>3</td>\n",
       "      <td>...</td>\n",
       "      <td>-3.787</td>\n",
       "      <td>0</td>\n",
       "      <td>0.0601</td>\n",
       "      <td>0.00883</td>\n",
       "      <td>0.000000</td>\n",
       "      <td>0.0674</td>\n",
       "      <td>0.915</td>\n",
       "      <td>102.977</td>\n",
       "      <td>1</td>\n",
       "      <td>3.384400</td>\n",
       "    </tr>\n",
       "    <tr>\n",
       "      <th>4</th>\n",
       "      <td>27243</td>\n",
       "      <td>9291</td>\n",
       "      <td>9790</td>\n",
       "      <td>2171</td>\n",
       "      <td>7734</td>\n",
       "      <td>2021</td>\n",
       "      <td>89</td>\n",
       "      <td>168</td>\n",
       "      <td>2</td>\n",
       "      <td>3</td>\n",
       "      <td>...</td>\n",
       "      <td>-3.591</td>\n",
       "      <td>1</td>\n",
       "      <td>0.0369</td>\n",
       "      <td>0.17800</td>\n",
       "      <td>0.000003</td>\n",
       "      <td>0.2300</td>\n",
       "      <td>0.656</td>\n",
       "      <td>118.997</td>\n",
       "      <td>1</td>\n",
       "      <td>3.557267</td>\n",
       "    </tr>\n",
       "  </tbody>\n",
       "</table>\n",
       "<p>5 rows × 23 columns</p>\n",
       "</div>"
      ],
      "text/plain": [
       "   track.id  track.name  track.artist  track.album.id  track.album.name  \\\n",
       "0      4359       20729          9232            6280             17057   \n",
       "1     20286        8694          3377           19859              7294   \n",
       "2     26839       23842          8209            8064             19538   \n",
       "3     15651       11914          2617             267              9542   \n",
       "4     27243        9291          9790            2171              7734   \n",
       "\n",
       "   track.album.release_date  playlist_name  playlist_id  playlist_genre  \\\n",
       "0                      2021             89          168               2   \n",
       "1                      2021             89          168               2   \n",
       "2                      2021             89          168               2   \n",
       "3                      2020             89          168               2   \n",
       "4                      2021             89          168               2   \n",
       "\n",
       "   playlist_subgenre  ...  loudness  mode  speechiness  acousticness  \\\n",
       "0                  3  ...    -4.627     0       0.0435       0.03010   \n",
       "1                  3  ...    -4.878     1       0.1020       0.21600   \n",
       "2                  3  ...    -1.856     0       0.0426       0.04810   \n",
       "3                  3  ...    -3.787     0       0.0601       0.00883   \n",
       "4                  3  ...    -3.591     1       0.0369       0.17800   \n",
       "\n",
       "   instrumentalness  liveness  valence    tempo  popularity_encoded  \\\n",
       "0          0.000022    0.0901    0.464  117.953                   1   \n",
       "1          0.000000    0.0608    0.479  124.111                   1   \n",
       "2          0.000002    0.1910    0.696  126.031                   1   \n",
       "3          0.000000    0.0674    0.915  102.977                   1   \n",
       "4          0.000003    0.2300    0.656  118.997                   1   \n",
       "\n",
       "   duration_minutes  \n",
       "0          2.746983  \n",
       "1          3.062100  \n",
       "2          2.923917  \n",
       "3          3.384400  \n",
       "4          3.557267  \n",
       "\n",
       "[5 rows x 23 columns]"
      ]
     },
     "execution_count": 25,
     "metadata": {},
     "output_type": "execute_result"
    }
   ],
   "source": [
    "df_encoded.head()"
   ]
  },
  {
   "cell_type": "markdown",
   "id": "c4ec5973",
   "metadata": {},
   "source": [
    "## 3. Modeling"
   ]
  },
  {
   "cell_type": "markdown",
   "id": "a9ecac15",
   "metadata": {},
   "source": [
    "# Logistic Regression"
   ]
  },
  {
   "cell_type": "markdown",
   "id": "1ba4d344",
   "metadata": {},
   "source": [
    "# RAP"
   ]
  },
  {
   "cell_type": "code",
   "execution_count": 26,
   "id": "546697b8",
   "metadata": {},
   "outputs": [
    {
     "name": "stdout",
     "output_type": "stream",
     "text": [
      "0.3564068100358423 0.35410717285402316 0.34721289456010745\n"
     ]
    }
   ],
   "source": [
    "# data splitting, check samples\n",
    "from sklearn.model_selection import train_test_split\n",
    "X = df_rap_encoded.drop('popularity_encoded',axis=1)\n",
    "y = df_rap_encoded['popularity_encoded']\n",
    "\n",
    "X_train, X_test, y_train, y_test = train_test_split(X, y, test_size=0.25, random_state=0)\n",
    "\n",
    "print(np.mean(y_train), np.mean(y), np.mean(y_test))"
   ]
  },
  {
   "cell_type": "code",
   "execution_count": 27,
   "id": "95d9e03b",
   "metadata": {},
   "outputs": [
    {
     "data": {
      "text/plain": [
       "((4464, 22), (1489, 22), (4464,), (1489,))"
      ]
     },
     "execution_count": 27,
     "metadata": {},
     "output_type": "execute_result"
    }
   ],
   "source": [
    "X_train.shape,X_test.shape,y_train.shape,y_test.shape"
   ]
  },
  {
   "cell_type": "code",
   "execution_count": 28,
   "id": "71d5d334",
   "metadata": {},
   "outputs": [
    {
     "name": "stdout",
     "output_type": "stream",
     "text": [
      "{'C': 1, 'max_iter': 100, 'penalty': 'l1', 'solver': 'liblinear', 'tol': 0.0001}\n"
     ]
    }
   ],
   "source": [
    "from sklearn.linear_model import LogisticRegression\n",
    "from sklearn.model_selection import GridSearchCV\n",
    "\n",
    "# Define the hyperparameter grid\n",
    "param_grid = {\n",
    "    'penalty': ['l1', 'l2', 'elasticnet', 'none'],\n",
    "    'C': [0.001, 0.01, 0.1, 1, 10],\n",
    "    'solver': ['newton-cg', 'lbfgs', 'liblinear', 'sag', 'saga'],\n",
    "    'max_iter': [100, 500, 1000, 5000],\n",
    "    'tol': [0.0001, 0.001, 0.01, 0.1]\n",
    "}\n",
    "\n",
    "# Create a logistic regression object\n",
    "lr = LogisticRegression()\n",
    "\n",
    "# Create a GridSearchCV object with 5-fold cross-validation\n",
    "grid_search = GridSearchCV(lr, param_grid, cv=5)\n",
    "\n",
    "# Fit the GridSearchCV object to the training data\n",
    "grid_search.fit(X_train, y_train)\n",
    "\n",
    "# Print the best hyperparameters\n",
    "print(grid_search.best_params_)\n"
   ]
  },
  {
   "cell_type": "code",
   "execution_count": 30,
   "id": "9e7550f2",
   "metadata": {},
   "outputs": [
    {
     "name": "stdout",
     "output_type": "stream",
     "text": [
      "Accuracy for test set is: 0.6648757555406313\n"
     ]
    }
   ],
   "source": [
    "print(\"Accuracy for test set is:\", grid_search.score(X_test, y_test))"
   ]
  },
  {
   "cell_type": "code",
   "execution_count": 31,
   "id": "5cbfaa0d",
   "metadata": {},
   "outputs": [
    {
     "name": "stdout",
     "output_type": "stream",
     "text": [
      "Accuracy for test set is: 0.648757555406313\n"
     ]
    }
   ],
   "source": [
    "from sklearn.linear_model import LogisticRegression\n",
    "\n",
    "# Run the Logistic Regression Model: \n",
    "## (a) Define function, train the model. Report coefficient\n",
    "logreg = LogisticRegression() \n",
    "logreg.fit(X_train, y_train)\n",
    "logreg.coef_, logreg.intercept_\n",
    "\n",
    "## (b) Accuracy\n",
    "print(\"Accuracy for test set is:\", logreg.score(X_test, y_test))"
   ]
  },
  {
   "cell_type": "code",
   "execution_count": 32,
   "id": "aa6acf2b",
   "metadata": {},
   "outputs": [
    {
     "data": {
      "text/plain": [
       "array([0, 0, 0, ..., 0, 0, 0])"
      ]
     },
     "execution_count": 32,
     "metadata": {},
     "output_type": "execute_result"
    }
   ],
   "source": [
    "# Apply the model on the test data and make a prediction\n",
    "y_pred= logreg.predict(X_test)\n",
    "y_pred"
   ]
  },
  {
   "cell_type": "code",
   "execution_count": 33,
   "id": "21293f23",
   "metadata": {},
   "outputs": [],
   "source": [
    "y_test_series = pd.Series(y_test, name='actual')\n",
    "y_pred_series = pd.Series(y_pred, name='predicted')\n",
    "combined = pd.concat([y_test_series, y_pred_series], axis=1)\n",
    "combined = pd.DataFrame({'actual': y_test, 'predicted': y_pred})"
   ]
  },
  {
   "cell_type": "code",
   "execution_count": 34,
   "id": "008b3756",
   "metadata": {},
   "outputs": [
    {
     "name": "stdout",
     "output_type": "stream",
     "text": [
      "       actual  predicted\n",
      "6043        1          0\n",
      "7273        1          0\n",
      "6464        0          0\n",
      "10053       0          0\n",
      "8767        0          0\n",
      "...       ...        ...\n",
      "10616       1          0\n",
      "5918        0          0\n",
      "9922        1          0\n",
      "10232       0          0\n",
      "9119        0          0\n",
      "\n",
      "[1489 rows x 2 columns]\n"
     ]
    }
   ],
   "source": [
    "print(combined)"
   ]
  },
  {
   "cell_type": "markdown",
   "id": "f1efc155",
   "metadata": {},
   "source": [
    "6xgSXClcPJAiohZWl6WgjW\tTemptation\tDJ Kuba\t39\t6sQahsQ8JVVi8gdZzzBm4B\tTemptation\t2020\tElectro House 2022\t4pVZ70y8vzzkn2GVwQbQw8\tedm\telectro house\t0.689\t0.925\t2\t-3.739\t1\t0.0414\t0.00549\t0.799\t0.363\t0.587\t125.056\t156495"
   ]
  },
  {
   "cell_type": "code",
   "execution_count": 41,
   "id": "50bf23b3",
   "metadata": {},
   "outputs": [],
   "source": [
    "x_new = [[-1],[-1],[-1],[-1],[-1],[2020],[-1],[-1],[-1],[-1],[0.689],[0.925],[2],[-3.739],[1],[0.0414],[0.00549],[0.799],[0.363],[0.587],[125.056],[156495]]"
   ]
  },
  {
   "cell_type": "code",
   "execution_count": 48,
   "id": "442df85a",
   "metadata": {},
   "outputs": [
    {
     "name": "stdout",
     "output_type": "stream",
     "text": [
      "[0]\n"
     ]
    }
   ],
   "source": [
    "df_xnew = pd.DataFrame(x_new)\n",
    "df_xnew =df_xnew.transpose()\n",
    "new_pred= logreg.predict(df_xnew)\n",
    "print(new_pred)"
   ]
  },
  {
   "cell_type": "code",
   "execution_count": 47,
   "id": "c2ad5dbb",
   "metadata": {},
   "outputs": [],
   "source": [
    "X_test.to_csv(\"test_set.csv\")"
   ]
  },
  {
   "cell_type": "code",
   "execution_count": 37,
   "id": "571358d3",
   "metadata": {},
   "outputs": [],
   "source": [
    "combined.to_csv(\"results_logistic.csv\")"
   ]
  },
  {
   "cell_type": "markdown",
   "id": "842f6da7",
   "metadata": {},
   "source": [
    "# EDM"
   ]
  },
  {
   "cell_type": "code",
   "execution_count": 35,
   "id": "ec97c72e",
   "metadata": {},
   "outputs": [
    {
     "name": "stdout",
     "output_type": "stream",
     "text": [
      "0.20920314253647587 0.21313131313131314 0.2249158249158249\n"
     ]
    }
   ],
   "source": [
    "# data splitting, check samples\n",
    "from sklearn.model_selection import train_test_split\n",
    "X = df_edm_encoded.drop('popularity_encoded',axis=1)\n",
    "y = df_edm_encoded['popularity_encoded']\n",
    "\n",
    "X_train, X_test, y_train, y_test = train_test_split(X, y, test_size=0.25, random_state=0)\n",
    "\n",
    "print(np.mean(y_train), np.mean(y), np.mean(y_test))"
   ]
  },
  {
   "cell_type": "code",
   "execution_count": 38,
   "id": "6d25e2bc",
   "metadata": {},
   "outputs": [
    {
     "name": "stdout",
     "output_type": "stream",
     "text": [
      "{'C': 0.1, 'max_iter': 100, 'penalty': 'l1', 'solver': 'liblinear', 'tol': 0.0001}\n"
     ]
    }
   ],
   "source": [
    "from sklearn.linear_model import LogisticRegression\n",
    "from sklearn.model_selection import GridSearchCV\n",
    "\n",
    "# Define the hyperparameter grid\n",
    "param_grid = {\n",
    "    'penalty': ['l1', 'l2', 'elasticnet', 'none'],\n",
    "    'C': [0.001, 0.01, 0.1, 1, 10],\n",
    "    'solver': ['newton-cg', 'lbfgs', 'liblinear', 'sag', 'saga'],\n",
    "    'max_iter': [100, 500, 1000, 5000],\n",
    "    'tol': [0.0001, 0.001, 0.01, 0.1]\n",
    "}\n",
    "\n",
    "# Create a logistic regression object\n",
    "lr = LogisticRegression()\n",
    "\n",
    "# Create a GridSearchCV object with 5-fold cross-validation\n",
    "grid_search = GridSearchCV(lr, param_grid, cv=5)\n",
    "\n",
    "# Fit the GridSearchCV object to the training data\n",
    "grid_search.fit(X_train, y_train)\n",
    "\n",
    "# Print the best hyperparameters\n",
    "print(grid_search.best_params_)"
   ]
  },
  {
   "cell_type": "code",
   "execution_count": 40,
   "id": "07c8f812",
   "metadata": {},
   "outputs": [
    {
     "name": "stdout",
     "output_type": "stream",
     "text": [
      "Accuracy for test set is: 0.7811447811447811\n"
     ]
    }
   ],
   "source": [
    "print(\"Accuracy for test set is:\", grid_search.score(X_test, y_test))"
   ]
  },
  {
   "cell_type": "code",
   "execution_count": 36,
   "id": "24b00580",
   "metadata": {},
   "outputs": [
    {
     "name": "stdout",
     "output_type": "stream",
     "text": [
      "Accuracy for test set is: 0.7744107744107744\n"
     ]
    }
   ],
   "source": [
    "from sklearn.linear_model import LogisticRegression\n",
    "\n",
    "# Run the Logistic Regression Model: \n",
    "## (a) Define function, train the model. Report coefficient\n",
    "logreg = LogisticRegression() \n",
    "# if no penalization:\n",
    "logreg_nopenal = LogisticRegression(penalty = 'none')\n",
    "logreg.fit(X_train, y_train)\n",
    "logreg.coef_, logreg.intercept_\n",
    "\n",
    "## (b) Accuracy\n",
    "print(\"Accuracy for test set is:\", logreg.score(X_test, y_test))"
   ]
  },
  {
   "cell_type": "code",
   "execution_count": 37,
   "id": "78492831",
   "metadata": {},
   "outputs": [
    {
     "data": {
      "text/plain": [
       "array([0, 0, 0, ..., 0, 0, 0])"
      ]
     },
     "execution_count": 37,
     "metadata": {},
     "output_type": "execute_result"
    }
   ],
   "source": [
    "# Apply the model on the test data and make a prediction\n",
    "y_pred= logreg.predict(X_test)\n",
    "y_pred"
   ]
  },
  {
   "cell_type": "code",
   "execution_count": 41,
   "id": "fe60bf0e",
   "metadata": {},
   "outputs": [
    {
     "data": {
      "text/plain": [
       "array([0, 0, 0, ..., 0, 0, 0])"
      ]
     },
     "execution_count": 41,
     "metadata": {},
     "output_type": "execute_result"
    }
   ],
   "source": [
    "y_pred_tuned= grid_search.predict(X_test)\n",
    "y_pred_tuned"
   ]
  },
  {
   "cell_type": "code",
   "execution_count": 52,
   "id": "ecab0e67",
   "metadata": {},
   "outputs": [
    {
     "data": {
      "text/plain": [
       "array([[1151,    0],\n",
       "       [ 334,    0]])"
      ]
     },
     "execution_count": 52,
     "metadata": {},
     "output_type": "execute_result"
    }
   ],
   "source": [
    "cm_LR = confusion_matrix(y_test,y_pred)\n",
    "cm_LR"
   ]
  },
  {
   "cell_type": "code",
   "execution_count": 42,
   "id": "d94a8c81",
   "metadata": {},
   "outputs": [
    {
     "data": {
      "text/plain": [
       "array([[1145,    6],\n",
       "       [ 319,   15]])"
      ]
     },
     "execution_count": 42,
     "metadata": {},
     "output_type": "execute_result"
    }
   ],
   "source": [
    "cm_LR_tuned = confusion_matrix(y_test,y_pred_tuned)\n",
    "cm_LR_tuned"
   ]
  },
  {
   "cell_type": "code",
   "execution_count": 53,
   "id": "f6b4ee39",
   "metadata": {},
   "outputs": [
    {
     "data": {
      "image/png": "[encoded data removed]",
      "text/plain": [
       "<Figure size 432x288 with 2 Axes>"
      ]
     },
     "metadata": {
      "needs_background": "light"
     },
     "output_type": "display_data"
    }
   ],
   "source": [
    "import seaborn as sns\n",
    "ax = sns.heatmap(cm_LR,annot=True,fmt='d',cmap='Reds')\n",
    "ax.set_xlabel('Predicted Label')\n",
    "ax.set_ylabel('Actual Label')\n",
    "ax.xaxis.set_ticklabels(['Negative','Positive'])\n",
    "ax.yaxis.set_ticklabels(['Negative','Positive'])\n",
    "plt.show()"
   ]
  },
  {
   "cell_type": "code",
   "execution_count": 43,
   "id": "366f38dc",
   "metadata": {},
   "outputs": [
    {
     "data": {
      "image/png": "[encoded data removed]",
      "text/plain": [
       "<Figure size 432x288 with 2 Axes>"
      ]
     },
     "metadata": {
      "needs_background": "light"
     },
     "output_type": "display_data"
    }
   ],
   "source": [
    "import seaborn as sns\n",
    "ax = sns.heatmap(cm_LR_tuned,annot=True,fmt='d',cmap='Reds')\n",
    "ax.set_xlabel('Predicted Label')\n",
    "ax.set_ylabel('Actual Label')\n",
    "ax.xaxis.set_ticklabels(['Negative','Positive'])\n",
    "ax.yaxis.set_ticklabels(['Negative','Positive'])\n",
    "plt.show()"
   ]
  },
  {
   "cell_type": "markdown",
   "id": "58a9b415",
   "metadata": {},
   "source": [
    "# POP"
   ]
  },
  {
   "cell_type": "code",
   "execution_count": 45,
   "id": "870231f5",
   "metadata": {},
   "outputs": [
    {
     "name": "stdout",
     "output_type": "stream",
     "text": [
      "0.42270367862784924 0.42325266542562195 0.4248985115020298\n"
     ]
    }
   ],
   "source": [
    "# data splitting, check samples\n",
    "from sklearn.model_selection import train_test_split\n",
    "X = df_pop_encoded.drop('popularity_encoded',axis=1)\n",
    "y = df_pop_encoded['popularity_encoded']\n",
    "\n",
    "X_train, X_test, y_train, y_test = train_test_split(X, y, test_size=0.25, random_state=0)\n",
    "\n",
    "print(np.mean(y_train), np.mean(y), np.mean(y_test))"
   ]
  },
  {
   "cell_type": "code",
   "execution_count": 47,
   "id": "1ee1f630",
   "metadata": {},
   "outputs": [
    {
     "name": "stdout",
     "output_type": "stream",
     "text": [
      "{'C': 10, 'max_iter': 100, 'penalty': 'l2', 'solver': 'newton-cg', 'tol': 0.0001}\n"
     ]
    }
   ],
   "source": [
    "from sklearn.linear_model import LogisticRegression\n",
    "from sklearn.model_selection import GridSearchCV\n",
    "\n",
    "# Define the hyperparameter grid\n",
    "param_grid = {\n",
    "    'penalty': ['l1', 'l2', 'elasticnet', 'none'],\n",
    "    'C': [0.001, 0.01, 0.1, 1, 10],\n",
    "    'solver': ['newton-cg', 'lbfgs', 'liblinear', 'sag', 'saga'],\n",
    "    'max_iter': [100, 500, 1000, 5000],\n",
    "    'tol': [0.0001, 0.001, 0.01, 0.1]\n",
    "}\n",
    "\n",
    "# Create a logistic regression object\n",
    "lr = LogisticRegression()\n",
    "\n",
    "# Create a GridSearchCV object with 5-fold cross-validation\n",
    "grid_search = GridSearchCV(lr, param_grid, cv=5)\n",
    "\n",
    "# Fit the GridSearchCV object to the training data\n",
    "grid_search.fit(X_train, y_train)\n",
    "\n",
    "# Print the best hyperparameters\n",
    "print(grid_search.best_params_)"
   ]
  },
  {
   "cell_type": "code",
   "execution_count": 48,
   "id": "e85b4db1",
   "metadata": {},
   "outputs": [
    {
     "name": "stdout",
     "output_type": "stream",
     "text": [
      "Accuracy for test set is: 0.5940460081190798\n"
     ]
    }
   ],
   "source": [
    "print(\"Accuracy for test set is:\", grid_search.score(X_test, y_test))"
   ]
  },
  {
   "cell_type": "code",
   "execution_count": 49,
   "id": "d8a17fa8",
   "metadata": {},
   "outputs": [
    {
     "name": "stdout",
     "output_type": "stream",
     "text": [
      "Accuracy for test set is: 0.5805142083897158\n"
     ]
    }
   ],
   "source": [
    "from sklearn.linear_model import LogisticRegression\n",
    "\n",
    "# Run the Logistic Regression Model: \n",
    "## (a) Define function, train the model. Report coefficient\n",
    "logreg = LogisticRegression() \n",
    "# if no penalization:\n",
    "logreg_nopenal = LogisticRegression(penalty = 'none')\n",
    "logreg.fit(X_train, y_train)\n",
    "logreg.coef_, logreg.intercept_\n",
    "\n",
    "## (b) Accuracy\n",
    "print(\"Accuracy for test set is:\", logreg.score(X_test, y_test))"
   ]
  },
  {
   "cell_type": "code",
   "execution_count": 50,
   "id": "5c96c757",
   "metadata": {},
   "outputs": [
    {
     "data": {
      "image/png": "[encoded data removed]",
      "text/plain": [
       "<Figure size 432x288 with 2 Axes>"
      ]
     },
     "metadata": {
      "needs_background": "light"
     },
     "output_type": "display_data"
    }
   ],
   "source": [
    "y_pred= logreg.predict(X_test)\n",
    "cm_LR = confusion_matrix(y_test,y_pred)\n",
    "ax = sns.heatmap(cm_LR,annot=True,fmt='d',cmap='Reds')\n",
    "ax.set_xlabel('Predicted Label')\n",
    "ax.set_ylabel('Actual Label')\n",
    "ax.xaxis.set_ticklabels(['Negative','Positive'])\n",
    "ax.yaxis.set_ticklabels(['Negative','Positive'])\n",
    "plt.show()"
   ]
  },
  {
   "cell_type": "code",
   "execution_count": 51,
   "id": "2a97adb5",
   "metadata": {},
   "outputs": [
    {
     "data": {
      "image/png": "[encoded data removed]",
      "text/plain": [
       "<Figure size 432x288 with 2 Axes>"
      ]
     },
     "metadata": {
      "needs_background": "light"
     },
     "output_type": "display_data"
    }
   ],
   "source": [
    "y_pred_tuned= grid_search.predict(X_test)\n",
    "cm_LR_tuned = confusion_matrix(y_test,y_pred_tuned)\n",
    "ax = sns.heatmap(cm_LR_tuned,annot=True,fmt='d',cmap='Reds')\n",
    "ax.set_xlabel('Predicted Label')\n",
    "ax.set_ylabel('Actual Label')\n",
    "ax.xaxis.set_ticklabels(['Negative','Positive'])\n",
    "ax.yaxis.set_ticklabels(['Negative','Positive'])\n",
    "plt.show()"
   ]
  },
  {
   "cell_type": "markdown",
   "id": "b58d6521",
   "metadata": {},
   "source": [
    "# ROCK"
   ]
  },
  {
   "cell_type": "code",
   "execution_count": 52,
   "id": "d3f6db71",
   "metadata": {},
   "outputs": [
    {
     "name": "stdout",
     "output_type": "stream",
     "text": [
      "0.4135115070527097 0.41566153275190204 0.422106824925816\n"
     ]
    }
   ],
   "source": [
    "# data splitting, check samples\n",
    "from sklearn.model_selection import train_test_split\n",
    "X = df_rock_encoded.drop('popularity_encoded',axis=1)\n",
    "y = df_rock_encoded['popularity_encoded']\n",
    "\n",
    "X_train, X_test, y_train, y_test = train_test_split(X, y, test_size=0.25, random_state=0)\n",
    "\n",
    "print(np.mean(y_train), np.mean(y), np.mean(y_test))"
   ]
  },
  {
   "cell_type": "code",
   "execution_count": 55,
   "id": "fee580de",
   "metadata": {},
   "outputs": [
    {
     "name": "stdout",
     "output_type": "stream",
     "text": [
      "{'C': 0.1, 'max_iter': 100, 'penalty': 'l2', 'solver': 'newton-cg', 'tol': 0.0001}\n"
     ]
    }
   ],
   "source": [
    "from sklearn.linear_model import LogisticRegression\n",
    "from sklearn.model_selection import GridSearchCV\n",
    "\n",
    "# Define the hyperparameter grid\n",
    "param_grid = {\n",
    "    'penalty': ['l1', 'l2', 'elasticnet', 'none'],\n",
    "    'C': [0.001, 0.01, 0.1, 1, 10],\n",
    "    'solver': ['newton-cg', 'lbfgs', 'liblinear', 'sag', 'saga'],\n",
    "    'max_iter': [100, 500, 1000, 5000],\n",
    "    'tol': [0.0001, 0.001, 0.01, 0.1]\n",
    "}\n",
    "\n",
    "# Create a logistic regression object\n",
    "lr = LogisticRegression()\n",
    "\n",
    "# Create a GridSearchCV object with 5-fold cross-validation\n",
    "grid_search = GridSearchCV(lr, param_grid, cv=5)\n",
    "\n",
    "# Fit the GridSearchCV object to the training data\n",
    "grid_search.fit(X_train, y_train)\n",
    "\n",
    "# Print the best hyperparameters\n",
    "print(grid_search.best_params_)"
   ]
  },
  {
   "cell_type": "code",
   "execution_count": 56,
   "id": "62ff6ff7",
   "metadata": {},
   "outputs": [
    {
     "name": "stdout",
     "output_type": "stream",
     "text": [
      "Accuracy for test set is: 0.6238872403560831\n"
     ]
    }
   ],
   "source": [
    "print(\"Accuracy for test set is:\", grid_search.score(X_test, y_test))"
   ]
  },
  {
   "cell_type": "code",
   "execution_count": 57,
   "id": "32bd6aa6",
   "metadata": {},
   "outputs": [
    {
     "name": "stdout",
     "output_type": "stream",
     "text": [
      "Accuracy for test set is: 0.6016320474777448\n"
     ]
    }
   ],
   "source": [
    "from sklearn.linear_model import LogisticRegression\n",
    "\n",
    "# Run the Logistic Regression Model: \n",
    "## (a) Define function, train the model. Report coefficient\n",
    "logreg = LogisticRegression() \n",
    "# if no penalization:\n",
    "logreg_nopenal = LogisticRegression(penalty = 'none')\n",
    "logreg.fit(X_train, y_train)\n",
    "logreg.coef_, logreg.intercept_\n",
    "\n",
    "## (b) Accuracy\n",
    "print(\"Accuracy for test set is:\", logreg.score(X_test, y_test))"
   ]
  },
  {
   "cell_type": "code",
   "execution_count": 54,
   "id": "61a2a540",
   "metadata": {},
   "outputs": [
    {
     "data": {
      "image/png": "[encoded data removed]",
      "text/plain": [
       "<Figure size 432x288 with 2 Axes>"
      ]
     },
     "metadata": {
      "needs_background": "light"
     },
     "output_type": "display_data"
    }
   ],
   "source": [
    "y_pred= logreg.predict(X_test)\n",
    "cm_LR = confusion_matrix(y_test,y_pred)\n",
    "ax = sns.heatmap(cm_LR,annot=True,fmt='d',cmap='Reds')\n",
    "ax.set_xlabel('Predicted Label')\n",
    "ax.set_ylabel('Actual Label')\n",
    "ax.xaxis.set_ticklabels(['Negative','Positive'])\n",
    "ax.yaxis.set_ticklabels(['Negative','Positive'])\n",
    "plt.show()"
   ]
  },
  {
   "cell_type": "code",
   "execution_count": 58,
   "id": "f4ee15f3",
   "metadata": {},
   "outputs": [
    {
     "data": {
      "image/png": "[encoded data removed]",
      "text/plain": [
       "<Figure size 432x288 with 2 Axes>"
      ]
     },
     "metadata": {
      "needs_background": "light"
     },
     "output_type": "display_data"
    }
   ],
   "source": [
    "y_pred_tuned= grid_search.predict(X_test)\n",
    "cm_LR_tuned = confusion_matrix(y_test,y_pred_tuned)\n",
    "ax = sns.heatmap(cm_LR_tuned,annot=True,fmt='d',cmap='Reds')\n",
    "ax.set_xlabel('Predicted Label')\n",
    "ax.set_ylabel('Actual Label')\n",
    "ax.xaxis.set_ticklabels(['Negative','Positive'])\n",
    "ax.yaxis.set_ticklabels(['Negative','Positive'])\n",
    "plt.show()"
   ]
  },
  {
   "cell_type": "markdown",
   "id": "325846c7",
   "metadata": {},
   "source": [
    "# LATIN"
   ]
  },
  {
   "cell_type": "code",
   "execution_count": 59,
   "id": "e3066e47",
   "metadata": {},
   "outputs": [
    {
     "name": "stdout",
     "output_type": "stream",
     "text": [
      "0.36868032149338864 0.37137857281742176 0.37947122861586313\n"
     ]
    }
   ],
   "source": [
    "# data splitting, check samples\n",
    "from sklearn.model_selection import train_test_split\n",
    "X = df_latin_encoded.drop('popularity_encoded',axis=1)\n",
    "y = df_latin_encoded['popularity_encoded']\n",
    "\n",
    "X_train, X_test, y_train, y_test = train_test_split(X, y, test_size=0.25, random_state=0)\n",
    "\n",
    "print(np.mean(y_train), np.mean(y), np.mean(y_test))"
   ]
  },
  {
   "cell_type": "code",
   "execution_count": 62,
   "id": "dd74a3ff",
   "metadata": {},
   "outputs": [
    {
     "name": "stdout",
     "output_type": "stream",
     "text": [
      "{'C': 1, 'max_iter': 500, 'penalty': 'l1', 'solver': 'liblinear', 'tol': 0.0001}\n"
     ]
    }
   ],
   "source": [
    "from sklearn.linear_model import LogisticRegression\n",
    "from sklearn.model_selection import GridSearchCV\n",
    "\n",
    "# Define the hyperparameter grid\n",
    "param_grid = {\n",
    "    'penalty': ['l1', 'l2', 'elasticnet', 'none'],\n",
    "    'C': [0.001, 0.01, 0.1, 1, 10],\n",
    "    'solver': ['newton-cg', 'lbfgs', 'liblinear', 'sag', 'saga'],\n",
    "    'max_iter': [100, 500, 1000, 5000],\n",
    "    'tol': [0.0001, 0.001, 0.01, 0.1]\n",
    "}\n",
    "\n",
    "# Create a logistic regression object\n",
    "lr = LogisticRegression()\n",
    "\n",
    "# Create a GridSearchCV object with 5-fold cross-validation\n",
    "grid_search = GridSearchCV(lr, param_grid, cv=5)\n",
    "\n",
    "# Fit the GridSearchCV object to the training data\n",
    "grid_search.fit(X_train, y_train)\n",
    "\n",
    "# Print the best hyperparameters\n",
    "print(grid_search.best_params_)"
   ]
  },
  {
   "cell_type": "code",
   "execution_count": 63,
   "id": "8fe0360b",
   "metadata": {},
   "outputs": [
    {
     "name": "stdout",
     "output_type": "stream",
     "text": [
      "Accuracy for test set is: 0.6897356143079316\n"
     ]
    }
   ],
   "source": [
    "print(\"Accuracy for test set is:\", grid_search.score(X_test, y_test))"
   ]
  },
  {
   "cell_type": "code",
   "execution_count": 60,
   "id": "c25733a4",
   "metadata": {},
   "outputs": [
    {
     "name": "stdout",
     "output_type": "stream",
     "text": [
      "Accuracy for test set is: 0.656298600311042\n"
     ]
    }
   ],
   "source": [
    "from sklearn.linear_model import LogisticRegression\n",
    "\n",
    "# Run the Logistic Regression Model: \n",
    "## (a) Define function, train the model. Report coefficient\n",
    "logreg = LogisticRegression() \n",
    "# if no penalization:\n",
    "logreg_nopenal = LogisticRegression(penalty = 'none')\n",
    "logreg.fit(X_train, y_train)\n",
    "logreg.coef_, logreg.intercept_\n",
    "\n",
    "## (b) Accuracy\n",
    "print(\"Accuracy for test set is:\", logreg.score(X_test, y_test))"
   ]
  },
  {
   "cell_type": "code",
   "execution_count": 64,
   "id": "2412b1a8",
   "metadata": {},
   "outputs": [
    {
     "data": {
      "image/png": "[encoded data removed]",
      "text/plain": [
       "<Figure size 432x288 with 2 Axes>"
      ]
     },
     "metadata": {
      "needs_background": "light"
     },
     "output_type": "display_data"
    }
   ],
   "source": [
    "y_pred= logreg.predict(X_test)\n",
    "cm_LR = confusion_matrix(y_test,y_pred)\n",
    "ax = sns.heatmap(cm_LR,annot=True,fmt='d',cmap='Reds')\n",
    "ax.set_xlabel('Predicted Label')\n",
    "ax.set_ylabel('Actual Label')\n",
    "ax.xaxis.set_ticklabels(['Negative','Positive'])\n",
    "ax.yaxis.set_ticklabels(['Negative','Positive'])\n",
    "plt.show()"
   ]
  },
  {
   "cell_type": "code",
   "execution_count": 65,
   "id": "16534a21",
   "metadata": {},
   "outputs": [
    {
     "data": {
      "image/png": "[encoded data removed]",
      "text/plain": [
       "<Figure size 432x288 with 2 Axes>"
      ]
     },
     "metadata": {
      "needs_background": "light"
     },
     "output_type": "display_data"
    }
   ],
   "source": [
    "y_pred_tuned= grid_search.predict(X_test)\n",
    "cm_LR_tuned = confusion_matrix(y_test,y_pred_tuned)\n",
    "ax = sns.heatmap(cm_LR_tuned,annot=True,fmt='d',cmap='Reds')\n",
    "ax.set_xlabel('Predicted Label')\n",
    "ax.set_ylabel('Actual Label')\n",
    "ax.xaxis.set_ticklabels(['Negative','Positive'])\n",
    "ax.yaxis.set_ticklabels(['Negative','Positive'])\n",
    "plt.show()"
   ]
  },
  {
   "cell_type": "markdown",
   "id": "ed6fe97c",
   "metadata": {},
   "source": [
    "# R&B"
   ]
  },
  {
   "cell_type": "code",
   "execution_count": 66,
   "id": "aacf5937",
   "metadata": {},
   "outputs": [
    {
     "name": "stdout",
     "output_type": "stream",
     "text": [
      "0.28150382919470873 0.28785241907413855 0.3068893528183716\n"
     ]
    }
   ],
   "source": [
    "# data splitting, check samples\n",
    "from sklearn.model_selection import train_test_split\n",
    "X = df_rb_encoded.drop('popularity_encoded',axis=1)\n",
    "y = df_rb_encoded['popularity_encoded']\n",
    "\n",
    "X_train, X_test, y_train, y_test = train_test_split(X, y, test_size=0.25, random_state=0)\n",
    "\n",
    "print(np.mean(y_train), np.mean(y), np.mean(y_test))"
   ]
  },
  {
   "cell_type": "code",
   "execution_count": 69,
   "id": "5b4879e5",
   "metadata": {},
   "outputs": [
    {
     "name": "stdout",
     "output_type": "stream",
     "text": [
      "{'C': 0.001, 'max_iter': 100, 'penalty': 'none', 'solver': 'newton-cg', 'tol': 0.0001}\n"
     ]
    }
   ],
   "source": [
    "from sklearn.linear_model import LogisticRegression\n",
    "from sklearn.model_selection import GridSearchCV\n",
    "\n",
    "# Define the hyperparameter grid\n",
    "param_grid = {\n",
    "    'penalty': ['l1', 'l2', 'elasticnet', 'none'],\n",
    "    'C': [0.001, 0.01, 0.1, 1, 10],\n",
    "    'solver': ['newton-cg', 'lbfgs', 'liblinear', 'sag', 'saga'],\n",
    "    'max_iter': [100, 500, 1000, 5000],\n",
    "    'tol': [0.0001, 0.001, 0.01, 0.1]\n",
    "}\n",
    "\n",
    "# Create a logistic regression object\n",
    "lr = LogisticRegression()\n",
    "\n",
    "# Create a GridSearchCV object with 5-fold cross-validation\n",
    "grid_search = GridSearchCV(lr, param_grid, cv=5)\n",
    "\n",
    "# Fit the GridSearchCV object to the training data\n",
    "grid_search.fit(X_train, y_train)\n",
    "\n",
    "# Print the best hyperparameters\n",
    "print(grid_search.best_params_)"
   ]
  },
  {
   "cell_type": "code",
   "execution_count": 70,
   "id": "7db36ca7",
   "metadata": {},
   "outputs": [
    {
     "name": "stdout",
     "output_type": "stream",
     "text": [
      "Accuracy for test set is: 0.708420320111343\n"
     ]
    }
   ],
   "source": [
    "print(\"Accuracy for test set is:\", grid_search.score(X_test, y_test))"
   ]
  },
  {
   "cell_type": "code",
   "execution_count": 67,
   "id": "71342862",
   "metadata": {},
   "outputs": [
    {
     "name": "stdout",
     "output_type": "stream",
     "text": [
      "Accuracy for test set is: 0.6938065414057063\n"
     ]
    }
   ],
   "source": [
    "from sklearn.linear_model import LogisticRegression\n",
    "\n",
    "# Run the Logistic Regression Model: \n",
    "## (a) Define function, train the model. Report coefficient\n",
    "logreg = LogisticRegression() \n",
    "# if no penalization:\n",
    "logreg_nopenal = LogisticRegression(penalty = 'none')\n",
    "logreg.fit(X_train, y_train)\n",
    "logreg.coef_, logreg.intercept_\n",
    "\n",
    "## (b) Accuracy\n",
    "print(\"Accuracy for test set is:\", logreg.score(X_test, y_test))"
   ]
  },
  {
   "cell_type": "code",
   "execution_count": 68,
   "id": "7ad9f7b5",
   "metadata": {},
   "outputs": [
    {
     "data": {
      "image/png": "[encoded data removed]",
      "text/plain": [
       "<Figure size 432x288 with 2 Axes>"
      ]
     },
     "metadata": {
      "needs_background": "light"
     },
     "output_type": "display_data"
    }
   ],
   "source": [
    "y_pred= logreg.predict(X_test)\n",
    "cm_LR = confusion_matrix(y_test,y_pred)\n",
    "ax = sns.heatmap(cm_LR,annot=True,fmt='d',cmap='Reds')\n",
    "ax.set_xlabel('Predicted Label')\n",
    "ax.set_ylabel('Actual Label')\n",
    "ax.xaxis.set_ticklabels(['Negative','Positive'])\n",
    "ax.yaxis.set_ticklabels(['Negative','Positive'])\n",
    "plt.show()"
   ]
  },
  {
   "cell_type": "code",
   "execution_count": 71,
   "id": "c53de20a",
   "metadata": {},
   "outputs": [
    {
     "data": {
      "image/png": "[encoded data removed]",
      "text/plain": [
       "<Figure size 432x288 with 2 Axes>"
      ]
     },
     "metadata": {
      "needs_background": "light"
     },
     "output_type": "display_data"
    }
   ],
   "source": [
    "y_pred_tuned= grid_search.predict(X_test)\n",
    "cm_LR_tuned = confusion_matrix(y_test,y_pred_tuned)\n",
    "ax = sns.heatmap(cm_LR_tuned,annot=True,fmt='d',cmap='Reds')\n",
    "ax.set_xlabel('Predicted Label')\n",
    "ax.set_ylabel('Actual Label')\n",
    "ax.xaxis.set_ticklabels(['Negative','Positive'])\n",
    "ax.yaxis.set_ticklabels(['Negative','Positive'])\n",
    "plt.show()"
   ]
  },
  {
   "cell_type": "markdown",
   "id": "c4f38478",
   "metadata": {},
   "source": [
    "### 3.1 XGBoost\n"
   ]
  },
  {
   "cell_type": "markdown",
   "id": "d79e9f0b",
   "metadata": {},
   "source": [
    "#### a. RAP"
   ]
  },
  {
   "cell_type": "code",
   "execution_count": 44,
   "id": "df249486",
   "metadata": {},
   "outputs": [
    {
     "name": "stdout",
     "output_type": "stream",
     "text": [
      "0.3564068100358423 0.35410717285402316 0.34721289456010745\n"
     ]
    }
   ],
   "source": [
    "# data splitting, check samples\n",
    "from sklearn.model_selection import train_test_split\n",
    "X = df_rap_encoded.drop('popularity_encoded',axis=1)\n",
    "y = df_rap_encoded['popularity_encoded']\n",
    "\n",
    "X_train, X_test, y_train, y_test = train_test_split(X, y, test_size=0.25, random_state=0)\n",
    "\n",
    "print(np.mean(y_train), np.mean(y), np.mean(y_test))\n"
   ]
  },
  {
   "cell_type": "code",
   "execution_count": 41,
   "id": "a5c91677",
   "metadata": {},
   "outputs": [
    {
     "data": {
      "text/plain": [
       "XGBClassifier(base_score=None, booster=None, callbacks=None,\n",
       "              colsample_bylevel=None, colsample_bynode=None,\n",
       "              colsample_bytree=None, early_stopping_rounds=None,\n",
       "              enable_categorical=False, eval_metric=None, feature_types=None,\n",
       "              gamma=None, gpu_id=None, grow_policy=None, importance_type=None,\n",
       "              interaction_constraints=None, learning_rate=None, max_bin=None,\n",
       "              max_cat_threshold=None, max_cat_to_onehot=None,\n",
       "              max_delta_step=None, max_depth=3, max_leaves=None,\n",
       "              min_child_weight=None, missing=nan, monotone_constraints=None,\n",
       "              n_estimators=100, n_jobs=None, num_parallel_tree=None,\n",
       "              predictor=None, random_state=None, ...)"
      ]
     },
     "execution_count": 41,
     "metadata": {},
     "output_type": "execute_result"
    }
   ],
   "source": [
    "import xgboost as xgb\n",
    "\n",
    "model = xgb.XGBClassifier(objective='binary:logistic', max_depth=3)\n",
    "model.fit(X_train, y_train)"
   ]
  },
  {
   "cell_type": "code",
   "execution_count": 42,
   "id": "17189e2d",
   "metadata": {},
   "outputs": [],
   "source": [
    "#Probabilities of the positive class for the test set \n",
    "y_prob = model.predict_proba(X_test)[:, 1]"
   ]
  },
  {
   "cell_type": "code",
   "execution_count": 56,
   "id": "0438c37b",
   "metadata": {},
   "outputs": [
    {
     "data": {
      "text/plain": [
       "array([0.71731555, 0.628677  , 0.6649799 , ..., 0.91436404, 0.34285957,\n",
       "       0.1453023 ], dtype=float32)"
      ]
     },
     "execution_count": 56,
     "metadata": {},
     "output_type": "execute_result"
    }
   ],
   "source": [
    "y_prob"
   ]
  },
  {
   "cell_type": "code",
   "execution_count": 43,
   "id": "ca7f4018",
   "metadata": {},
   "outputs": [],
   "source": [
    "from sklearn.metrics import roc_curve\n",
    "fpr, tpr, thresholds = roc_curve(y_test, y_prob)"
   ]
  },
  {
   "cell_type": "code",
   "execution_count": 44,
   "id": "adfb7ca7",
   "metadata": {},
   "outputs": [
    {
     "data": {
      "image/png": "[encoded data removed]",
      "text/plain": [
       "<Figure size 432x288 with 1 Axes>"
      ]
     },
     "metadata": {
      "needs_background": "light"
     },
     "output_type": "display_data"
    }
   ],
   "source": [
    "import matplotlib.pyplot as plt\n",
    "\n",
    "plt.plot(fpr, tpr)\n",
    "plt.xlabel('False Positive Rate')\n",
    "plt.ylabel('True Positive Rate')\n",
    "plt.title('ROC Curve')\n",
    "plt.show()"
   ]
  },
  {
   "cell_type": "raw",
   "id": "2b0cf1ff",
   "metadata": {},
   "source": [
    "The optimal threshold is the point that maximizes the Youden's J statistic (i.e., the point on the ROC curve that is farthest from the diagonal line)."
   ]
  },
  {
   "cell_type": "code",
   "execution_count": 45,
   "id": "3a915049",
   "metadata": {},
   "outputs": [
    {
     "data": {
      "text/plain": [
       "0.3336582"
      ]
     },
     "execution_count": 45,
     "metadata": {},
     "output_type": "execute_result"
    }
   ],
   "source": [
    "#Optimal Threshold\n",
    "youden = tpr - fpr\n",
    "optimal_threshold = thresholds[np.argmax(youden)]\n",
    "optimal_threshold"
   ]
  },
  {
   "cell_type": "code",
   "execution_count": 53,
   "id": "164dd3f6",
   "metadata": {},
   "outputs": [],
   "source": [
    "y_pred_xgb = (y_prob >= optimal_threshold).astype(int)"
   ]
  },
  {
   "cell_type": "code",
   "execution_count": 54,
   "id": "66368de6",
   "metadata": {},
   "outputs": [],
   "source": [
    "y_test_series = pd.Series(y_test, name='actual')\n",
    "y_pred_series = pd.Series(y_pred_xgb, name='predicted')\n",
    "combined = pd.concat([y_test_series, y_pred_series], axis=1)\n",
    "combined = pd.DataFrame({'actual': y_test, 'predicted': y_pred})"
   ]
  },
  {
   "cell_type": "code",
   "execution_count": 55,
   "id": "78c41e10",
   "metadata": {},
   "outputs": [],
   "source": [
    "combined.to_csv(\"results_xgb.csv\")"
   ]
  },
  {
   "cell_type": "code",
   "execution_count": 72,
   "id": "6a0fd99b",
   "metadata": {},
   "outputs": [
    {
     "data": {
      "text/plain": [
       "array([[659, 313],\n",
       "       [ 99, 418]])"
      ]
     },
     "execution_count": 72,
     "metadata": {},
     "output_type": "execute_result"
    }
   ],
   "source": [
    "cm_test_xgb = confusion_matrix(y_test,y_pred_xgb)\n",
    "cm_test_xgb"
   ]
  },
  {
   "cell_type": "code",
   "execution_count": 73,
   "id": "e31ed1ca",
   "metadata": {},
   "outputs": [
    {
     "data": {
      "image/png": "[encoded data removed]",
      "text/plain": [
       "<Figure size 432x288 with 2 Axes>"
      ]
     },
     "metadata": {
      "needs_background": "light"
     },
     "output_type": "display_data"
    }
   ],
   "source": [
    "import seaborn as sns\n",
    "ax = sns.heatmap(cm_test_xgb,annot=True,fmt='d',cmap='Reds')\n",
    "ax.set_xlabel('Predicted Label')\n",
    "ax.set_ylabel('Actual Label')\n",
    "ax.xaxis.set_ticklabels(['Negative','Positive'])\n",
    "ax.yaxis.set_ticklabels(['Negative','Positive'])\n",
    "plt.show()"
   ]
  },
  {
   "cell_type": "code",
   "execution_count": 48,
   "id": "07ddbabf",
   "metadata": {},
   "outputs": [
    {
     "name": "stdout",
     "output_type": "stream",
     "text": [
      "Accuracy for test set is: 0.7233042310275353\n"
     ]
    }
   ],
   "source": [
    "accuracy = accuracy_score(y_test, y_pred)\n",
    "\n",
    "print(\"Accuracy for test set is:\", accuracy)"
   ]
  },
  {
   "cell_type": "markdown",
   "id": "c68c6171",
   "metadata": {},
   "source": [
    "The F-score is calculated as the number of times a feature is split on across all trees in the model, weighted by the number of training samples that go through those splits. The higher the F-score of a feature, the more important it is in determining the target variable. Therefore, the features with higher F-scores are considered to be more important for the model's prediction."
   ]
  },
  {
   "cell_type": "code",
   "execution_count": 49,
   "id": "c6c71115",
   "metadata": {},
   "outputs": [
    {
     "data": {
      "image/png": "[encoded data removed]",
      "text/plain": [
       "<Figure size 432x288 with 1 Axes>"
      ]
     },
     "metadata": {
      "needs_background": "light"
     },
     "output_type": "display_data"
    }
   ],
   "source": [
    "# Plot the feature importance\n",
    "xgb.plot_importance(model)\n",
    "plt.show()\n",
    "\n",
    "#track.artist, speechiness and loudness are importance features"
   ]
  },
  {
   "cell_type": "code",
   "execution_count": 79,
   "id": "eba0aa55",
   "metadata": {},
   "outputs": [
    {
     "data": {
      "text/plain": [
       "array([0])"
      ]
     },
     "execution_count": 79,
     "metadata": {},
     "output_type": "execute_result"
    }
   ],
   "source": [
    "X_new = [[-1],[-1],[-1],[-1],[-1],[2021],[-1],[-1],[-1],[-1],[0.736],[0.704],[3],[-7.409],[0],[0.0615],[0.0203],[0],[0.0501],[0.894],[149.995],[212000]]\n",
    "df_xnew = pd.DataFrame(X_new)\n",
    "df_xnew =df_xnew.transpose()\n",
    "new_pred= logreg.predict(df_xnew)\n",
    "new_pred"
   ]
  },
  {
   "cell_type": "markdown",
   "id": "b8f2629c",
   "metadata": {},
   "source": [
    "### b. EDM "
   ]
  },
  {
   "cell_type": "code",
   "execution_count": 80,
   "id": "b54313eb",
   "metadata": {},
   "outputs": [
    {
     "name": "stdout",
     "output_type": "stream",
     "text": [
      "0.20920314253647587 0.21313131313131314 0.2249158249158249\n"
     ]
    },
    {
     "data": {
      "text/plain": [
       "XGBClassifier(base_score=None, booster=None, callbacks=None,\n",
       "              colsample_bylevel=None, colsample_bynode=None,\n",
       "              colsample_bytree=None, early_stopping_rounds=None,\n",
       "              enable_categorical=False, eval_metric=None, feature_types=None,\n",
       "              gamma=None, gpu_id=None, grow_policy=None, importance_type=None,\n",
       "              interaction_constraints=None, learning_rate=None, max_bin=None,\n",
       "              max_cat_threshold=None, max_cat_to_onehot=None,\n",
       "              max_delta_step=None, max_depth=3, max_leaves=None,\n",
       "              min_child_weight=None, missing=nan, monotone_constraints=None,\n",
       "              n_estimators=100, n_jobs=None, num_parallel_tree=None,\n",
       "              predictor=None, random_state=None, ...)"
      ]
     },
     "execution_count": 80,
     "metadata": {},
     "output_type": "execute_result"
    }
   ],
   "source": [
    "from sklearn.model_selection import train_test_split\n",
    "X = df_edm_encoded.drop('popularity_encoded',axis=1)\n",
    "y = df_edm_encoded['popularity_encoded']\n",
    "\n",
    "X_train, X_test, y_train, y_test = train_test_split(X, y, test_size=0.25, random_state=0)\n",
    "\n",
    "print(np.mean(y_train), np.mean(y), np.mean(y_test))\n",
    "\n",
    "import xgboost as xgb\n",
    "\n",
    "model = xgb.XGBClassifier(objective='binary:logistic', max_depth=3)\n",
    "model.fit(X_train, y_train)"
   ]
  },
  {
   "cell_type": "code",
   "execution_count": 81,
   "id": "3348fb22",
   "metadata": {},
   "outputs": [
    {
     "data": {
      "image/png": "[encoded data removed]",
      "text/plain": [
       "<Figure size 432x288 with 1 Axes>"
      ]
     },
     "metadata": {
      "needs_background": "light"
     },
     "output_type": "display_data"
    }
   ],
   "source": [
    "#Probabilities of the positive class for the test set \n",
    "y_prob = model.predict_proba(X_test)[:, 1]\n",
    "\n",
    "\n",
    "#ROC Curve for optimal threshold\n",
    "from sklearn.metrics import roc_curve\n",
    "fpr, tpr, thresholds = roc_curve(y_test, y_prob)\n",
    "\n",
    "import matplotlib.pyplot as plt\n",
    "\n",
    "plt.plot(fpr, tpr)\n",
    "plt.xlabel('False Positive Rate')\n",
    "plt.ylabel('True Positive Rate')\n",
    "plt.title('ROC Curve')\n",
    "plt.show()"
   ]
  },
  {
   "cell_type": "code",
   "execution_count": 82,
   "id": "5380448b",
   "metadata": {},
   "outputs": [
    {
     "data": {
      "text/plain": [
       "0.15391494"
      ]
     },
     "execution_count": 82,
     "metadata": {},
     "output_type": "execute_result"
    }
   ],
   "source": [
    "#Optimal Threshold\n",
    "youden = tpr - fpr\n",
    "optimal_threshold = thresholds[np.argmax(youden)]\n",
    "optimal_threshold"
   ]
  },
  {
   "cell_type": "code",
   "execution_count": 83,
   "id": "cf6af063",
   "metadata": {},
   "outputs": [
    {
     "name": "stdout",
     "output_type": "stream",
     "text": [
      "[[802 349]\n",
      " [ 42 292]]\n"
     ]
    }
   ],
   "source": [
    "y_pred = (y_prob >= optimal_threshold).astype(int)\n",
    "\n",
    "#Confusion matrix\n",
    "from sklearn.metrics import confusion_matrix\n",
    "xgb_matrix = confusion_matrix(y_test, y_pred)\n",
    "print(xgb_matrix)"
   ]
  },
  {
   "cell_type": "code",
   "execution_count": 86,
   "id": "11a712fe",
   "metadata": {},
   "outputs": [
    {
     "data": {
      "image/png": "[encoded data removed]",
      "text/plain": [
       "<Figure size 432x288 with 2 Axes>"
      ]
     },
     "metadata": {
      "needs_background": "light"
     },
     "output_type": "display_data"
    }
   ],
   "source": [
    "import seaborn as sns\n",
    "ax = sns.heatmap(xgb_matrix,annot=True,fmt='d',cmap='Reds')\n",
    "ax.set_xlabel('Predicted Label')\n",
    "ax.set_ylabel('Actual Label')\n",
    "ax.xaxis.set_ticklabels(['Negative','Positive'])\n",
    "ax.yaxis.set_ticklabels(['Negative','Positive'])\n",
    "plt.show()"
   ]
  },
  {
   "cell_type": "code",
   "execution_count": 84,
   "id": "d79e750b",
   "metadata": {},
   "outputs": [
    {
     "name": "stdout",
     "output_type": "stream",
     "text": [
      "Accuracy for test set is: 0.7367003367003367\n"
     ]
    }
   ],
   "source": [
    "accuracy = accuracy_score(y_test, y_pred)\n",
    "\n",
    "print(\"Accuracy for test set is:\", accuracy)"
   ]
  },
  {
   "cell_type": "code",
   "execution_count": 85,
   "id": "6e50fbf7",
   "metadata": {},
   "outputs": [
    {
     "data": {
      "image/png": "[encoded data removed]",
      "text/plain": [
       "<Figure size 432x288 with 1 Axes>"
      ]
     },
     "metadata": {
      "needs_background": "light"
     },
     "output_type": "display_data"
    }
   ],
   "source": [
    "# Plot the feature importance\n",
    "xgb.plot_importance(model)\n",
    "plt.show()\n"
   ]
  },
  {
   "cell_type": "markdown",
   "id": "6635008a",
   "metadata": {},
   "source": [
    "#### c. POP"
   ]
  },
  {
   "cell_type": "code",
   "execution_count": 87,
   "id": "70f0fff1",
   "metadata": {},
   "outputs": [
    {
     "name": "stdout",
     "output_type": "stream",
     "text": [
      "0.42270367862784924 0.42325266542562195 0.4248985115020298\n"
     ]
    },
    {
     "data": {
      "text/plain": [
       "XGBClassifier(base_score=None, booster=None, callbacks=None,\n",
       "              colsample_bylevel=None, colsample_bynode=None,\n",
       "              colsample_bytree=None, early_stopping_rounds=None,\n",
       "              enable_categorical=False, eval_metric=None, feature_types=None,\n",
       "              gamma=None, gpu_id=None, grow_policy=None, importance_type=None,\n",
       "              interaction_constraints=None, learning_rate=None, max_bin=None,\n",
       "              max_cat_threshold=None, max_cat_to_onehot=None,\n",
       "              max_delta_step=None, max_depth=3, max_leaves=None,\n",
       "              min_child_weight=None, missing=nan, monotone_constraints=None,\n",
       "              n_estimators=100, n_jobs=None, num_parallel_tree=None,\n",
       "              predictor=None, random_state=None, ...)"
      ]
     },
     "execution_count": 87,
     "metadata": {},
     "output_type": "execute_result"
    }
   ],
   "source": [
    "from sklearn.model_selection import train_test_split\n",
    "X = df_pop_encoded.drop('popularity_encoded',axis=1)\n",
    "y = df_pop_encoded['popularity_encoded']\n",
    "\n",
    "X_train, X_test, y_train, y_test = train_test_split(X, y, test_size=0.25, random_state=0)\n",
    "\n",
    "print(np.mean(y_train), np.mean(y), np.mean(y_test))\n",
    "\n",
    "import xgboost as xgb\n",
    "\n",
    "model = xgb.XGBClassifier(objective='binary:logistic', max_depth=3)\n",
    "model.fit(X_train, y_train)"
   ]
  },
  {
   "cell_type": "code",
   "execution_count": 88,
   "id": "7d05fa9d",
   "metadata": {},
   "outputs": [
    {
     "data": {
      "image/png": "[encoded data removed]",
      "text/plain": [
       "<Figure size 432x288 with 1 Axes>"
      ]
     },
     "metadata": {
      "needs_background": "light"
     },
     "output_type": "display_data"
    }
   ],
   "source": [
    "#Probabilities of the positive class for the test set \n",
    "y_prob = model.predict_proba(X_test)[:, 1]\n",
    "\n",
    "\n",
    "#ROC Curve for optimal threshold\n",
    "from sklearn.metrics import roc_curve\n",
    "fpr, tpr, thresholds = roc_curve(y_test, y_prob)\n",
    "\n",
    "import matplotlib.pyplot as plt\n",
    "\n",
    "plt.plot(fpr, tpr)\n",
    "plt.xlabel('False Positive Rate')\n",
    "plt.ylabel('True Positive Rate')\n",
    "plt.title('ROC Curve')\n",
    "plt.show()"
   ]
  },
  {
   "cell_type": "code",
   "execution_count": 89,
   "id": "fc838a15",
   "metadata": {},
   "outputs": [
    {
     "data": {
      "text/plain": [
       "0.37303033"
      ]
     },
     "execution_count": 89,
     "metadata": {},
     "output_type": "execute_result"
    }
   ],
   "source": [
    "#Optimal Threshold\n",
    "youden = tpr - fpr\n",
    "optimal_threshold = thresholds[np.argmax(youden)]\n",
    "optimal_threshold"
   ]
  },
  {
   "cell_type": "code",
   "execution_count": 90,
   "id": "4928c14b",
   "metadata": {},
   "outputs": [
    {
     "name": "stdout",
     "output_type": "stream",
     "text": [
      "[[579 271]\n",
      " [126 502]]\n"
     ]
    }
   ],
   "source": [
    "y_pred = (y_prob >= optimal_threshold).astype(int)\n",
    "\n",
    "#Confusion matrix\n",
    "from sklearn.metrics import confusion_matrix\n",
    "xgb_matrix = confusion_matrix(y_test, y_pred)\n",
    "print(xgb_matrix)"
   ]
  },
  {
   "cell_type": "code",
   "execution_count": 91,
   "id": "f063b37d",
   "metadata": {},
   "outputs": [
    {
     "data": {
      "image/png": "[encoded data removed]",
      "text/plain": [
       "<Figure size 432x288 with 2 Axes>"
      ]
     },
     "metadata": {
      "needs_background": "light"
     },
     "output_type": "display_data"
    }
   ],
   "source": [
    "import seaborn as sns\n",
    "ax = sns.heatmap(xgb_matrix,annot=True,fmt='d',cmap='Reds')\n",
    "ax.set_xlabel('Predicted Label')\n",
    "ax.set_ylabel('Actual Label')\n",
    "ax.xaxis.set_ticklabels(['Negative','Positive'])\n",
    "ax.yaxis.set_ticklabels(['Negative','Positive'])\n",
    "plt.show()"
   ]
  },
  {
   "cell_type": "code",
   "execution_count": 92,
   "id": "7a86e82b",
   "metadata": {},
   "outputs": [
    {
     "name": "stdout",
     "output_type": "stream",
     "text": [
      "Accuracy for test set is: 0.7313937753721245\n"
     ]
    }
   ],
   "source": [
    "accuracy = accuracy_score(y_test, y_pred)\n",
    "\n",
    "print(\"Accuracy for test set is:\", accuracy)"
   ]
  },
  {
   "cell_type": "code",
   "execution_count": 93,
   "id": "4dfa7a92",
   "metadata": {},
   "outputs": [
    {
     "data": {
      "image/png": "[encoded data removed]",
      "text/plain": [
       "<Figure size 432x288 with 1 Axes>"
      ]
     },
     "metadata": {
      "needs_background": "light"
     },
     "output_type": "display_data"
    }
   ],
   "source": [
    "# Plot the feature importance\n",
    "xgb.plot_importance(model)\n",
    "plt.show()"
   ]
  },
  {
   "cell_type": "markdown",
   "id": "db94bdc9",
   "metadata": {},
   "source": [
    "#### d. ROCK"
   ]
  },
  {
   "cell_type": "code",
   "execution_count": 56,
   "id": "67106f50",
   "metadata": {},
   "outputs": [
    {
     "name": "stdout",
     "output_type": "stream",
     "text": [
      "0.4135115070527097 0.41566153275190204 0.422106824925816\n"
     ]
    },
    {
     "data": {
      "text/plain": [
       "XGBClassifier(base_score=None, booster=None, callbacks=None,\n",
       "              colsample_bylevel=None, colsample_bynode=None,\n",
       "              colsample_bytree=None, early_stopping_rounds=None,\n",
       "              enable_categorical=False, eval_metric=None, feature_types=None,\n",
       "              gamma=None, gpu_id=None, grow_policy=None, importance_type=None,\n",
       "              interaction_constraints=None, learning_rate=None, max_bin=None,\n",
       "              max_cat_threshold=None, max_cat_to_onehot=None,\n",
       "              max_delta_step=None, max_depth=3, max_leaves=None,\n",
       "              min_child_weight=None, missing=nan, monotone_constraints=None,\n",
       "              n_estimators=100, n_jobs=None, num_parallel_tree=None,\n",
       "              predictor=None, random_state=None, ...)"
      ]
     },
     "execution_count": 56,
     "metadata": {},
     "output_type": "execute_result"
    }
   ],
   "source": [
    "from sklearn.model_selection import train_test_split\n",
    "X = df_rock_encoded.drop('popularity_encoded',axis=1)\n",
    "y = df_rock_encoded['popularity_encoded']\n",
    "\n",
    "X_train, X_test, y_train, y_test = train_test_split(X, y, test_size=0.25, random_state=0)\n",
    "\n",
    "print(np.mean(y_train), np.mean(y), np.mean(y_test))\n",
    "\n",
    "import xgboost as xgb\n",
    "\n",
    "model = xgb.XGBClassifier(objective='binary:logistic', max_depth=3)\n",
    "model.fit(X_train, y_train)"
   ]
  },
  {
   "cell_type": "code",
   "execution_count": 57,
   "id": "3e957349",
   "metadata": {},
   "outputs": [
    {
     "data": {
      "image/png": "[encoded data removed]",
      "text/plain": [
       "<Figure size 432x288 with 1 Axes>"
      ]
     },
     "metadata": {
      "needs_background": "light"
     },
     "output_type": "display_data"
    }
   ],
   "source": [
    "#Probabilities of the positive class for the test set \n",
    "y_prob = model.predict_proba(X_test)[:, 1]\n",
    "\n",
    "\n",
    "#ROC Curve for optimal threshold\n",
    "from sklearn.metrics import roc_curve\n",
    "fpr, tpr, thresholds = roc_curve(y_test, y_prob)\n",
    "\n",
    "import matplotlib.pyplot as plt\n",
    "\n",
    "plt.plot(fpr, tpr)\n",
    "plt.xlabel('False Positive Rate')\n",
    "plt.ylabel('True Positive Rate')\n",
    "plt.title('ROC Curve')\n",
    "plt.show()"
   ]
  },
  {
   "cell_type": "code",
   "execution_count": 58,
   "id": "d6fc3358",
   "metadata": {},
   "outputs": [
    {
     "data": {
      "text/plain": [
       "0.48558706"
      ]
     },
     "execution_count": 58,
     "metadata": {},
     "output_type": "execute_result"
    }
   ],
   "source": [
    "#Optimal Threshold\n",
    "youden = tpr - fpr\n",
    "optimal_threshold = thresholds[np.argmax(youden)]\n",
    "optimal_threshold"
   ]
  },
  {
   "cell_type": "code",
   "execution_count": 59,
   "id": "c24aaf2a",
   "metadata": {},
   "outputs": [
    {
     "name": "stdout",
     "output_type": "stream",
     "text": [
      "[[602 177]\n",
      " [160 409]]\n"
     ]
    }
   ],
   "source": [
    "y_pred = (y_prob >= optimal_threshold).astype(int)\n",
    "\n",
    "#Confusion matrix\n",
    "from sklearn.metrics import confusion_matrix\n",
    "xgb_matrix = confusion_matrix(y_test, y_pred)\n",
    "print(xgb_matrix)"
   ]
  },
  {
   "cell_type": "code",
   "execution_count": 60,
   "id": "cc7468c2",
   "metadata": {},
   "outputs": [
    {
     "data": {
      "image/png": "[encoded data removed]",
      "text/plain": [
       "<Figure size 432x288 with 2 Axes>"
      ]
     },
     "metadata": {
      "needs_background": "light"
     },
     "output_type": "display_data"
    }
   ],
   "source": [
    "import seaborn as sns\n",
    "ax = sns.heatmap(xgb_matrix,annot=True,fmt='d',cmap='Reds')\n",
    "ax.set_xlabel('Predicted Label')\n",
    "ax.set_ylabel('Actual Label')\n",
    "ax.xaxis.set_ticklabels(['Negative','Positive'])\n",
    "ax.yaxis.set_ticklabels(['Negative','Positive'])\n",
    "plt.show()"
   ]
  },
  {
   "cell_type": "code",
   "execution_count": 61,
   "id": "db77f418",
   "metadata": {},
   "outputs": [
    {
     "name": "stdout",
     "output_type": "stream",
     "text": [
      "Accuracy for test set is: 0.75\n"
     ]
    }
   ],
   "source": [
    "accuracy = accuracy_score(y_test, y_pred)\n",
    "\n",
    "print(\"Accuracy for test set is:\", accuracy)"
   ]
  },
  {
   "cell_type": "code",
   "execution_count": 72,
   "id": "19767823",
   "metadata": {},
   "outputs": [
    {
     "data": {
      "image/png": "[encoded data removed]",
      "text/plain": [
       "<Figure size 432x288 with 1 Axes>"
      ]
     },
     "metadata": {
      "needs_background": "light"
     },
     "output_type": "display_data"
    },
    {
     "data": {
      "text/plain": [
       "<Figure size 576x576 with 0 Axes>"
      ]
     },
     "metadata": {},
     "output_type": "display_data"
    }
   ],
   "source": [
    "# Plot the feature importance\n",
    "xgb.plot_importance(model)\n",
    "plt.figure(figsize=(8,8))\n",
    "plt.show()"
   ]
  },
  {
   "cell_type": "markdown",
   "id": "11abf8d1",
   "metadata": {},
   "source": [
    "2QhURnm7mQDxBb5jWkbDug\tDon't Panic\tColdplay\t70\t6ZG5lRT77aJ3btmArcykra\tParachutes\t2000\tPermanent Wave\t7zvWnXxcQeKzDs51SoYlms\trock\tpermanent wave\t0.602\t0.612\t0\t-8.409\t1\t0.0335\t0.206\t0.00607\t0.107\t0.453\t122.062\t136867\n",
    "\n",
    "2QjOHCTQ1Jl3zawyYOpxh6\tSweater Weather\tThe Neighbourhood\t94\t4xkM0BwLM9H2IUcbYzpcBI\tI Love You.\t2013\tPermanent Wave\t7EW3LNVv4JJrw8mMl0uvR5\trock\tpermanent wave\t0.612\t0.807\t10\t-2.81\t1\t0.0336\t0.0495\t0.0177\t0.101\t0.398\t124.053\t240400"
   ]
  },
  {
   "cell_type": "code",
   "execution_count": 69,
   "id": "bd16c1ac",
   "metadata": {},
   "outputs": [],
   "source": [
    "new = [[-1],[-1],[-1],[-1],[-1],[2013],[-1],[-1],[-1],[-1],[0.612],[0.807],[10],[-2.81],[1],[0.0336],[0.0495],[0.0177],[0.101],[0.398],[124.053],[240400]]"
   ]
  },
  {
   "cell_type": "code",
   "execution_count": 70,
   "id": "22d76b25",
   "metadata": {},
   "outputs": [
    {
     "data": {
      "text/plain": [
       "array([0])"
      ]
     },
     "execution_count": 70,
     "metadata": {},
     "output_type": "execute_result"
    }
   ],
   "source": [
    "df_xnew = pd.DataFrame(new)\n",
    "df_xnew =df_xnew.transpose()\n",
    "new_pred= logreg.predict(df_xnew)\n",
    "new_pred"
   ]
  },
  {
   "cell_type": "markdown",
   "id": "a1810dec",
   "metadata": {},
   "source": [
    "#### e. R&B"
   ]
  },
  {
   "cell_type": "code",
   "execution_count": 101,
   "id": "a6d7f592",
   "metadata": {},
   "outputs": [
    {
     "name": "stdout",
     "output_type": "stream",
     "text": [
      "0.36868032149338864 0.37137857281742176 0.37947122861586313\n"
     ]
    },
    {
     "data": {
      "text/plain": [
       "XGBClassifier(base_score=None, booster=None, callbacks=None,\n",
       "              colsample_bylevel=None, colsample_bynode=None,\n",
       "              colsample_bytree=None, early_stopping_rounds=None,\n",
       "              enable_categorical=False, eval_metric=None, feature_types=None,\n",
       "              gamma=None, gpu_id=None, grow_policy=None, importance_type=None,\n",
       "              interaction_constraints=None, learning_rate=None, max_bin=None,\n",
       "              max_cat_threshold=None, max_cat_to_onehot=None,\n",
       "              max_delta_step=None, max_depth=3, max_leaves=None,\n",
       "              min_child_weight=None, missing=nan, monotone_constraints=None,\n",
       "              n_estimators=100, n_jobs=None, num_parallel_tree=None,\n",
       "              predictor=None, random_state=None, ...)"
      ]
     },
     "execution_count": 101,
     "metadata": {},
     "output_type": "execute_result"
    }
   ],
   "source": [
    "from sklearn.model_selection import train_test_split\n",
    "X = df_rb_encoded.drop('popularity_encoded',axis=1)\n",
    "y = df_rb_encoded['popularity_encoded']\n",
    "\n",
    "X_train, X_test, y_train, y_test = train_test_split(X, y, test_size=0.25, random_state=0)\n",
    "\n",
    "print(np.mean(y_train), np.mean(y), np.mean(y_test))\n",
    "\n",
    "import xgboost as xgb\n",
    "\n",
    "model = xgb.XGBClassifier(objective='binary:logistic', max_depth=3)\n",
    "model.fit(X_train, y_train)"
   ]
  },
  {
   "cell_type": "code",
   "execution_count": 102,
   "id": "3ec254d1",
   "metadata": {},
   "outputs": [
    {
     "data": {
      "image/png": "[encoded data removed]",
      "text/plain": [
       "<Figure size 432x288 with 1 Axes>"
      ]
     },
     "metadata": {
      "needs_background": "light"
     },
     "output_type": "display_data"
    }
   ],
   "source": [
    "#Probabilities of the positive class for the test set \n",
    "y_prob = model.predict_proba(X_test)[:, 1]\n",
    "\n",
    "\n",
    "#ROC Curve for optimal threshold\n",
    "from sklearn.metrics import roc_curve\n",
    "fpr, tpr, thresholds = roc_curve(y_test, y_prob)\n",
    "\n",
    "import matplotlib.pyplot as plt\n",
    "\n",
    "plt.plot(fpr, tpr)\n",
    "plt.xlabel('False Positive Rate')\n",
    "plt.ylabel('True Positive Rate')\n",
    "plt.title('ROC Curve')\n",
    "plt.show()"
   ]
  },
  {
   "cell_type": "code",
   "execution_count": 103,
   "id": "db613660",
   "metadata": {},
   "outputs": [
    {
     "data": {
      "text/plain": [
       "0.36738536"
      ]
     },
     "execution_count": 103,
     "metadata": {},
     "output_type": "execute_result"
    }
   ],
   "source": [
    "#Optimal Threshold\n",
    "youden = tpr - fpr\n",
    "optimal_threshold = thresholds[np.argmax(youden)]\n",
    "optimal_threshold"
   ]
  },
  {
   "cell_type": "code",
   "execution_count": 104,
   "id": "753d7faf",
   "metadata": {},
   "outputs": [
    {
     "name": "stdout",
     "output_type": "stream",
     "text": [
      "[[596 202]\n",
      " [122 366]]\n"
     ]
    }
   ],
   "source": [
    "y_pred = (y_prob >= optimal_threshold).astype(int)\n",
    "\n",
    "#Confusion matrix\n",
    "from sklearn.metrics import confusion_matrix\n",
    "xgb_matrix = confusion_matrix(y_test, y_pred)\n",
    "print(xgb_matrix)"
   ]
  },
  {
   "cell_type": "code",
   "execution_count": 107,
   "id": "5e1fbf46",
   "metadata": {},
   "outputs": [
    {
     "data": {
      "image/png": "[encoded data removed]",
      "text/plain": [
       "<Figure size 432x288 with 2 Axes>"
      ]
     },
     "metadata": {
      "needs_background": "light"
     },
     "output_type": "display_data"
    }
   ],
   "source": [
    "import seaborn as sns\n",
    "ax = sns.heatmap(xgb_matrix,annot=True,fmt='d',cmap='Reds')\n",
    "ax.set_xlabel('Predicted Label')\n",
    "ax.set_ylabel('Actual Label')\n",
    "ax.xaxis.set_ticklabels(['Negative','Positive'])\n",
    "ax.yaxis.set_ticklabels(['Negative','Positive'])\n",
    "plt.show()"
   ]
  },
  {
   "cell_type": "code",
   "execution_count": 105,
   "id": "880bdd66",
   "metadata": {},
   "outputs": [
    {
     "name": "stdout",
     "output_type": "stream",
     "text": [
      "Accuracy for test set is: 0.7480559875583204\n"
     ]
    }
   ],
   "source": [
    "accuracy = accuracy_score(y_test, y_pred)\n",
    "\n",
    "print(\"Accuracy for test set is:\", accuracy)"
   ]
  },
  {
   "cell_type": "code",
   "execution_count": 106,
   "id": "9e73ee6f",
   "metadata": {},
   "outputs": [
    {
     "data": {
      "image/png": "[encoded data removed]",
      "text/plain": [
       "<Figure size 432x288 with 1 Axes>"
      ]
     },
     "metadata": {
      "needs_background": "light"
     },
     "output_type": "display_data"
    }
   ],
   "source": [
    "# Plot the feature importance\n",
    "xgb.plot_importance(model)\n",
    "plt.show()"
   ]
  },
  {
   "cell_type": "markdown",
   "id": "c9ae5d4f",
   "metadata": {},
   "source": [
    "#### f. LATIN"
   ]
  },
  {
   "cell_type": "code",
   "execution_count": 110,
   "id": "80feaa03",
   "metadata": {},
   "outputs": [
    {
     "name": "stdout",
     "output_type": "stream",
     "text": [
      "0.36868032149338864 0.37137857281742176 0.37947122861586313\n"
     ]
    },
    {
     "data": {
      "text/plain": [
       "XGBClassifier(base_score=None, booster=None, callbacks=None,\n",
       "              colsample_bylevel=None, colsample_bynode=None,\n",
       "              colsample_bytree=None, early_stopping_rounds=None,\n",
       "              enable_categorical=False, eval_metric=None, feature_types=None,\n",
       "              gamma=None, gpu_id=None, grow_policy=None, importance_type=None,\n",
       "              interaction_constraints=None, learning_rate=None, max_bin=None,\n",
       "              max_cat_threshold=None, max_cat_to_onehot=None,\n",
       "              max_delta_step=None, max_depth=3, max_leaves=None,\n",
       "              min_child_weight=None, missing=nan, monotone_constraints=None,\n",
       "              n_estimators=100, n_jobs=None, num_parallel_tree=None,\n",
       "              predictor=None, random_state=None, ...)"
      ]
     },
     "execution_count": 110,
     "metadata": {},
     "output_type": "execute_result"
    }
   ],
   "source": [
    "from sklearn.model_selection import train_test_split\n",
    "X = df_latin_encoded.drop('popularity_encoded',axis=1)\n",
    "y = df_latin_encoded['popularity_encoded']\n",
    "\n",
    "X_train, X_test, y_train, y_test = train_test_split(X, y, test_size=0.25, random_state=0)\n",
    "\n",
    "print(np.mean(y_train), np.mean(y), np.mean(y_test))\n",
    "\n",
    "import xgboost as xgb\n",
    "\n",
    "model = xgb.XGBClassifier(objective='binary:logistic', max_depth=3)\n",
    "model.fit(X_train, y_train)"
   ]
  },
  {
   "cell_type": "code",
   "execution_count": 111,
   "id": "347ce120",
   "metadata": {},
   "outputs": [
    {
     "data": {
      "image/png": "[encoded data removed]",
      "text/plain": [
       "<Figure size 432x288 with 1 Axes>"
      ]
     },
     "metadata": {
      "needs_background": "light"
     },
     "output_type": "display_data"
    }
   ],
   "source": [
    "#Probabilities of the positive class for the test set \n",
    "y_prob = model.predict_proba(X_test)[:, 1]\n",
    "\n",
    "\n",
    "#ROC Curve for optimal threshold\n",
    "from sklearn.metrics import roc_curve\n",
    "fpr, tpr, thresholds = roc_curve(y_test, y_prob)\n",
    "\n",
    "import matplotlib.pyplot as plt\n",
    "\n",
    "plt.plot(fpr, tpr)\n",
    "plt.xlabel('False Positive Rate')\n",
    "plt.ylabel('True Positive Rate')\n",
    "plt.title('ROC Curve')\n",
    "plt.show()"
   ]
  },
  {
   "cell_type": "code",
   "execution_count": 112,
   "id": "f46ae270",
   "metadata": {},
   "outputs": [
    {
     "data": {
      "text/plain": [
       "0.36738536"
      ]
     },
     "execution_count": 112,
     "metadata": {},
     "output_type": "execute_result"
    }
   ],
   "source": [
    "#Optimal Threshold\n",
    "youden = tpr - fpr\n",
    "optimal_threshold = thresholds[np.argmax(youden)]\n",
    "optimal_threshold"
   ]
  },
  {
   "cell_type": "code",
   "execution_count": 113,
   "id": "ba26781f",
   "metadata": {},
   "outputs": [
    {
     "name": "stdout",
     "output_type": "stream",
     "text": [
      "[[596 202]\n",
      " [122 366]]\n"
     ]
    }
   ],
   "source": [
    "y_pred = (y_prob >= optimal_threshold).astype(int)\n",
    "\n",
    "#Confusion matrix\n",
    "from sklearn.metrics import confusion_matrix\n",
    "xgb_matrix = confusion_matrix(y_test, y_pred)\n",
    "print(xgb_matrix)"
   ]
  },
  {
   "cell_type": "code",
   "execution_count": 116,
   "id": "076eb627",
   "metadata": {},
   "outputs": [
    {
     "data": {
      "image/png": "[encoded data removed]",
      "text/plain": [
       "<Figure size 432x288 with 2 Axes>"
      ]
     },
     "metadata": {
      "needs_background": "light"
     },
     "output_type": "display_data"
    }
   ],
   "source": [
    "import seaborn as sns\n",
    "ax = sns.heatmap(xgb_matrix,annot=True,fmt='d',cmap='Reds')\n",
    "ax.set_xlabel('Predicted Label')\n",
    "ax.set_ylabel('Actual Label')\n",
    "ax.xaxis.set_ticklabels(['Negative','Positive'])\n",
    "ax.yaxis.set_ticklabels(['Negative','Positive'])\n",
    "plt.show()"
   ]
  },
  {
   "cell_type": "code",
   "execution_count": 114,
   "id": "2d1a301e",
   "metadata": {},
   "outputs": [
    {
     "name": "stdout",
     "output_type": "stream",
     "text": [
      "Accuracy for test set is: 0.7480559875583204\n"
     ]
    }
   ],
   "source": [
    "accuracy = accuracy_score(y_test, y_pred)\n",
    "\n",
    "print(\"Accuracy for test set is:\", accuracy)"
   ]
  },
  {
   "cell_type": "code",
   "execution_count": 115,
   "id": "db13edd4",
   "metadata": {},
   "outputs": [
    {
     "data": {
      "image/png": "[encoded data removed]",
      "text/plain": [
       "<Figure size 432x288 with 1 Axes>"
      ]
     },
     "metadata": {
      "needs_background": "light"
     },
     "output_type": "display_data"
    }
   ],
   "source": [
    "# Plot the feature importance\n",
    "xgb.plot_importance(model)\n",
    "plt.show()"
   ]
  },
  {
   "cell_type": "markdown",
   "id": "5f58e87e",
   "metadata": {},
   "source": [
    "## 4. Test Data "
   ]
  },
  {
   "cell_type": "code",
   "execution_count": 117,
   "id": "84e25d1b",
   "metadata": {},
   "outputs": [
    {
     "data": {
      "text/plain": [
       "track.id                     26839.000000\n",
       "track.name                   23842.000000\n",
       "track.artist                  8209.000000\n",
       "track.album.id                8064.000000\n",
       "track.album.name             19538.000000\n",
       "track.album.release_date      2021.000000\n",
       "playlist_name                   89.000000\n",
       "playlist_id                    168.000000\n",
       "playlist_genre                   2.000000\n",
       "playlist_subgenre                3.000000\n",
       "danceability                     0.733000\n",
       "energy                           0.886000\n",
       "key                              2.000000\n",
       "loudness                        -1.856000\n",
       "mode                             0.000000\n",
       "speechiness                      0.042600\n",
       "acousticness                     0.048100\n",
       "instrumentalness                 0.000002\n",
       "liveness                         0.191000\n",
       "valence                          0.696000\n",
       "tempo                          126.031000\n",
       "duration_ms                 175435.000000\n",
       "popularity_encoded               1.000000\n",
       "Name: 2, dtype: float64"
      ]
     },
     "execution_count": 117,
     "metadata": {},
     "output_type": "execute_result"
    }
   ],
   "source": [
    "df_encoded.iloc[2]"
   ]
  },
  {
   "cell_type": "code",
   "execution_count": 118,
   "id": "9a0e703c",
   "metadata": {},
   "outputs": [],
   "source": [
    "new_data= {'track.id':[5], 'track.name':[6], 'track.artist':[7], 'track.album.id':[8], 'track.album.name':[9],'track.album.release_date':[2022], 'playlist_name':[10], 'playlist_id':[3], 'playlist_genre': [11], 'playlist_subgenre':[5],'danceability':[0.743],'energy':[0.331],'key' : [0], 'loudness':[-10.857], 'mode':[1], 'speechiness':[0.0785], 'acousticness':[0.475], 'instrumentalness': [0.71], 'liveness' : [0.109], 'valence' : [0.393], 'tempo' : [83.004], 'duration_ms' : [143133]}\n"
   ]
  },
  {
   "cell_type": "code",
   "execution_count": 119,
   "id": "0d0acbcb",
   "metadata": {},
   "outputs": [
    {
     "data": {
      "text/plain": [
       "dict"
      ]
     },
     "execution_count": 119,
     "metadata": {},
     "output_type": "execute_result"
    }
   ],
   "source": [
    "type(new_data)"
   ]
  },
  {
   "cell_type": "code",
   "execution_count": 120,
   "id": "64fe431c",
   "metadata": {},
   "outputs": [],
   "source": [
    "df_new_data = pd.DataFrame.from_dict(new_data)"
   ]
  },
  {
   "cell_type": "code",
   "execution_count": 121,
   "id": "9070ddcd",
   "metadata": {},
   "outputs": [
    {
     "data": {
      "text/plain": [
       "array([0])"
      ]
     },
     "execution_count": 121,
     "metadata": {},
     "output_type": "execute_result"
    }
   ],
   "source": [
    "predictions = model.predict(df_new_data)\n",
    "predictions"
   ]
  },
  {
   "cell_type": "code",
   "execution_count": null,
   "id": "9111b1e8",
   "metadata": {},
   "outputs": [],
   "source": []
  }
 ],
 "metadata": {
  "kernelspec": {
   "display_name": "Python 3 (ipykernel)",
   "language": "python",
   "name": "python3"
  },
  "language_info": {
   "codemirror_mode": {
    "name": "ipython",
    "version": 3
   },
   "file_extension": ".py",
   "mimetype": "text/x-python",
   "name": "python",
   "nbconvert_exporter": "python",
   "pygments_lexer": "ipython3",
   "version": "3.9.7"
  }
 },
 "nbformat": 4,
 "nbformat_minor": 5
}
